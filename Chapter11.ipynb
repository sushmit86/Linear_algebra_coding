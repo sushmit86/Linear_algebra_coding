{
 "cells": [
  {
   "cell_type": "code",
   "execution_count": 2,
   "metadata": {
    "collapsed": false
   },
   "outputs": [],
   "source": [
    "# Example 9.6.7\n",
    "from vec import  *\n",
    "from mat import *\n",
    "from matutil import *\n",
    "from vecutil import *\n",
    "from GF2 import one\n",
    "from orthogonalization import *\n",
    "from orthonormalization import *\n",
    "import independence\n",
    "from QR import *\n",
    "from eigenfaces import *\n",
    "from image import  *\n",
    "from svd import  *\n",
    "\n",
    "s =[1,3]\n",
    "\n",
    "[s[i] for i in range(len(s)) if i %2 == 0]\n",
    "\n",
    "def FFT(w, s):\n",
    "    n = len(s) \n",
    "    if n==1: return [s[0]] \n",
    "    f0 = FFT(w*w, [s[i] for i in range(n) if i % 2 == 0]) \n",
    "    f1 = FFT(w*w, [s[i] for i in range(n) if i % 2 == 1]) \n",
    "    return [f0[j]+w**j*f1[j] for j in range(n//2)] + [f0[j]-w**(j+n//2)*f1[j] for j in range(n//2)]\n",
    "\n"
   ]
  },
  {
   "cell_type": "code",
   "execution_count": 4,
   "metadata": {
    "collapsed": false
   },
   "outputs": [],
   "source": [
    "# Task 11.6.1\n",
    "ret_images=load_images('faces')\n",
    "# Create domain for images\n",
    "m,n = 189, 166\n",
    "D =  {(x,y) for x in range(n) for y in range(m)}\n",
    "dict_images = {}\n",
    "# Creating the dictionary \n",
    "for key in ret_images:\n",
    "    L=ret_images[key]\n",
    "    dict_images[key]=Vec(D,{(r,c):L[r][c] for r in range(m) for c in range(n)})\n",
    "    \n",
    "# dict_images is dict with values as vecs of images\n",
    "\n",
    "# Task 11.6.2\n",
    "# computing the centeroird\n",
    "# Create a centoird vector \n",
    "\n",
    "centeroid_vector =  zero_vec(D)\n",
    "for key in dict_images:\n",
    "    centeroid_vector = centeroid_vector + dict_images[key]\n",
    "centeroid_vector = 0.05*(centeroid_vector) \n",
    "\n",
    "# now subtract centeroid vector\n",
    "\n",
    "for key in dict_images:\n",
    "    dict_images[key] = dict_images[key]  - centeroid_vector\n",
    "\n"
   ]
  },
  {
   "cell_type": "code",
   "execution_count": 6,
   "metadata": {
    "collapsed": false
   },
   "outputs": [],
   "source": [
    "for key in ret_images:\n",
    "     for r in range(n):\n",
    "            for c in range(m):\n",
    "                ret_images[key][c][r] = dict_images[key][(r,c)]\n",
    "                "
   ]
  },
  {
   "cell_type": "code",
   "execution_count": 7,
   "metadata": {
    "collapsed": false
   },
   "outputs": [],
   "source": [
    "A=rowdict2mat(dict_images)\n",
    "u,w,vt = factor(A)"
   ]
  },
  {
   "cell_type": "code",
   "execution_count": 13,
   "metadata": {
    "collapsed": false
   },
   "outputs": [
    {
     "name": "stdout",
     "output_type": "stream",
     "text": [
      "\n",
      "           0      1\n",
      "     --------------\n",
      " 0  |  0.707  0.577\n",
      " 1  |  0.707 -0.577\n",
      " 2  |      0  0.577\n",
      "\n",
      "\n",
      "  0  1  2\n",
      "---------\n",
      " 10 20 30\n"
     ]
    },
    {
     "data": {
      "text/plain": [
       "{(0, 0): 0.7071067811865475,\n",
       " (0, 1): 0.5773502691896258,\n",
       " (1, 0): 0.7071067811865475,\n",
       " (1, 1): -0.5773502691896258,\n",
       " (2, 1): 0.5773502691896258}"
      ]
     },
     "execution_count": 13,
     "metadata": {},
     "output_type": "execute_result"
    }
   ],
   "source": [
    "print(test_M)\n",
    "print(test_x)\n",
    "M_f = {(0,0):1/sqrt(2) , (1,0):1/sqrt(2) , (0,1):1/sqrt(3), (1,1):-1/sqrt(3), (2,1):1/sqrt(3)}\n",
    "\n",
    "M_f"
   ]
  }
 ],
 "metadata": {
  "kernelspec": {
   "display_name": "Python 3",
   "language": "python",
   "name": "python3"
  },
  "language_info": {
   "codemirror_mode": {
    "name": "ipython",
    "version": 3
   },
   "file_extension": ".py",
   "mimetype": "text/x-python",
   "name": "python",
   "nbconvert_exporter": "python",
   "pygments_lexer": "ipython3",
   "version": "3.5.1"
  }
 },
 "nbformat": 4,
 "nbformat_minor": 0
}
