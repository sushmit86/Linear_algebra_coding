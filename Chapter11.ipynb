{
 "cells": [
  {
   "cell_type": "code",
   "execution_count": 4,
   "metadata": {
    "collapsed": false
   },
   "outputs": [],
   "source": [
    "s =[1,3]\n",
    "\n",
    "[s[i] for i in range(len(s)) if i %2 == 0]\n",
    "\n",
    "def FFT(w, s):\n",
    "    n = len(s) \n",
    "    if n==1: return [s[0]] \n",
    "    f0 = FFT(w*w, [s[i] for i in range(n) if i % 2 == 0]) \n",
    "    f1 = FFT(w*w, [s[i] for i in range(n) if i % 2 == 1]) \n",
    "    return [f0[j]+w**j*f1[j] for j in range(n//2)] + [f0[j]-w**(j+n//2)*f1[j] for j in range(n//2)]\n",
    "\n"
   ]
  }
 ],
 "metadata": {
  "kernelspec": {
   "display_name": "Python 3",
   "language": "python",
   "name": "python3"
  },
  "language_info": {
   "codemirror_mode": {
    "name": "ipython",
    "version": 3
   },
   "file_extension": ".py",
   "mimetype": "text/x-python",
   "name": "python",
   "nbconvert_exporter": "python",
   "pygments_lexer": "ipython3",
   "version": "3.5.1"
  }
 },
 "nbformat": 4,
 "nbformat_minor": 0
}
