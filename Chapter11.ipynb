{
 "cells": [
  {
   "cell_type": "code",
   "execution_count": 1,
   "metadata": {
    "collapsed": false
   },
   "outputs": [],
   "source": [
    "# Example 9.6.7\n",
    "from vec import  *\n",
    "from mat import *\n",
    "from matutil import *\n",
    "from vecutil import *\n",
    "from GF2 import one\n",
    "from orthogonalization import *\n",
    "from orthonormalization import *\n",
    "import independence\n",
    "from QR import *\n",
    "from eigenfaces import *\n",
    "from image import  *\n",
    "from svd import  *\n",
    "from orthonormalization import *\n",
    "from orthogonalization import *\n",
    "from solver import *\n",
    "\n",
    "s =[1,3]\n",
    "\n",
    "[s[i] for i in range(len(s)) if i %2 == 0]\n",
    "\n",
    "def FFT(w, s):\n",
    "    n = len(s) \n",
    "    if n==1: return [s[0]] \n",
    "    f0 = FFT(w*w, [s[i] for i in range(n) if i % 2 == 0]) \n",
    "    f1 = FFT(w*w, [s[i] for i in range(n) if i % 2 == 1]) \n",
    "    return [f0[j]+w**j*f1[j] for j in range(n//2)] + [f0[j]-w**(j+n//2)*f1[j] for j in range(n//2)]\n"
   ]
  },
  {
   "cell_type": "code",
   "execution_count": 2,
   "metadata": {
    "collapsed": false
   },
   "outputs": [],
   "source": [
    "# Task 11.6.1\n",
    "ret_images=load_images('faces')\n",
    "# Create domain for images\n",
    "m,n = 189, 166\n",
    "D =  {(x,y) for x in range(m) for y in range(n)}\n",
    "dict_images = {}\n",
    "# Creating the dictionary \n",
    "for key in ret_images:\n",
    "    L=ret_images[key]\n",
    "    dict_images[key]=Vec(D,{(r,c):L[r][c] for r in range(m) for c in range(n)})\n",
    "    \n",
    "# dict_images is dict with values as vecs of images\n",
    "\n",
    "# Task 11.6.2\n",
    "# computing the centeroird\n",
    "# Create a centoird vector \n",
    "\n",
    "centeroid_vector =  zero_vec(D)\n",
    "for key in dict_images:\n",
    "    centeroid_vector = centeroid_vector + dict_images[key]\n",
    "centeroid_vector = 0.05*(centeroid_vector) \n",
    "\n",
    "# now subtract centeroid vector\n",
    "\n",
    "for key in dict_images:\n",
    "    dict_images[key] = dict_images[key]  - centeroid_vector\n",
    "\n"
   ]
  },
  {
   "cell_type": "code",
   "execution_count": 3,
   "metadata": {
    "collapsed": false
   },
   "outputs": [],
   "source": [
    "for key in ret_images:\n",
    "     for r in range(m):\n",
    "            for c in range(n):\n",
    "                ret_images[key][r][c] = dict_images[key][(r,c)]                "
   ]
  },
  {
   "cell_type": "code",
   "execution_count": 8,
   "metadata": {
    "collapsed": false
   },
   "outputs": [
    {
     "data": {
      "text/plain": [
       "1.000000000000005"
      ]
     },
     "execution_count": 8,
     "metadata": {},
     "output_type": "execute_result"
    }
   ],
   "source": [
    "#image2display(ret_images[19])\n",
    "eigenfaces[9]* eigenfaces[9]"
   ]
  },
  {
   "cell_type": "code",
   "execution_count": 5,
   "metadata": {
    "collapsed": false
   },
   "outputs": [],
   "source": [
    "# 11.6.3\n",
    "A=rowdict2mat(dict_images)\n",
    "u,w,v = factor(A)\n",
    "v_col_dict = mat2coldict(v)\n",
    "eigenfaces =  {x:v_col_dict[x] for x in range (10)}"
   ]
  },
  {
   "cell_type": "code",
   "execution_count": 9,
   "metadata": {
    "collapsed": false
   },
   "outputs": [
    {
     "data": {
      "text/plain": [
       "Vec({0, 1},{0: 21.213203435596427, 1: 11.547005383792518})"
      ]
     },
     "execution_count": 9,
     "metadata": {},
     "output_type": "execute_result"
    }
   ],
   "source": [
    "# 11.6.4\n",
    "# Input rows of M are orthonormal\n",
    "def project_representation(M , x):\n",
    "    rows_mat = mat2rowdict(M)\n",
    "    key_list = list(rows_mat.keys())\n",
    "    v_list = dict2list(rows_mat, key_list)\n",
    "    x_project_orthogonal = project_orthogonal(x, v_list)\n",
    "    x_project = x - x_project_orthogonal\n",
    "    return solve(transpose(M),x_project)\n",
    "project_representation(transpose(test_M), test_x)"
   ]
  },
  {
   "cell_type": "code",
   "execution_count": 10,
   "metadata": {
    "collapsed": false
   },
   "outputs": [
    {
     "data": {
      "text/plain": [
       "583.3333333333334"
      ]
     },
     "execution_count": 10,
     "metadata": {},
     "output_type": "execute_result"
    }
   ],
   "source": [
    "# 11.6.5\n",
    "def projection_length_squared(M,x):\n",
    "    rows_mat = mat2rowdict(M)\n",
    "    key_list = list(rows_mat.keys())\n",
    "    v_list = dict2list(rows_mat, key_list)\n",
    "    x_project_orthogonal = project_orthogonal(x, v_list)\n",
    "    x_project = x - x_project_orthogonal\n",
    "    return(x_project * x_project )\n",
    "projection_length_squared(transpose(test_M), test_x)"
   ]
  },
  {
   "cell_type": "code",
   "execution_count": 11,
   "metadata": {
    "collapsed": false
   },
   "outputs": [
    {
     "data": {
      "text/plain": [
       "816.6666666666666"
      ]
     },
     "execution_count": 11,
     "metadata": {},
     "output_type": "execute_result"
    }
   ],
   "source": [
    "# 11.6.6\n",
    "def distance_squared(M,x):\n",
    "    rows_mat = mat2rowdict(M)\n",
    "    key_list = list(rows_mat.keys())\n",
    "    v_list = dict2list(rows_mat, key_list)\n",
    "    x_project_orthogonal = project_orthogonal(x, v_list)\n",
    "    return(x_project_orthogonal * x_project_orthogonal )\n",
    "distance_squared(transpose(test_M), test_x)"
   ]
  },
  {
   "cell_type": "code",
   "execution_count": 17,
   "metadata": {
    "collapsed": false
   },
   "outputs": [
    {
     "name": "stdout",
     "output_type": "stream",
     "text": [
      "7875252.4455062635\n",
      "15967960.027504144\n",
      "3259398.756932294\n",
      "5210603.8984066965\n",
      "1847965.6327986943\n",
      "1810184.7401299484\n",
      "1761404.1955008968\n",
      "3856712.7529565496\n",
      "9287329.099896763\n",
      "10214670.986111313\n",
      "5828238.601968983\n",
      "2903087.9941650955\n",
      "13112729.09677749\n",
      "6004777.866640862\n",
      "7015996.399822366\n",
      "10152689.99530302\n",
      "9139143.193325847\n",
      "6456711.985581101\n",
      "11883163.521836624\n",
      "7480047.108550315\n"
     ]
    }
   ],
   "source": [
    "for x in range(20):\n",
    "    print(distance_squared(rowdict2mat(eigenfaces),dict_images[x]))\n"
   ]
  },
  {
   "cell_type": "code",
   "execution_count": 13,
   "metadata": {
    "collapsed": false
   },
   "outputs": [],
   "source": [
    "# Task 11.6.9\n",
    "unclassified_images=load_images('unclassified', n =11)\n",
    "# Create domain for images\n",
    "m,n = 189, 166\n",
    "D =  {(x,y) for x in range(m) for y in range(n)}\n",
    "dict_images_unclassified = {}\n",
    "# Creating the dictionary \n",
    "for key in unclassified_images:\n",
    "    L=unclassified_images[key]\n",
    "    dict_images_unclassified[key]=Vec(D,{(r,c):L[r][c] for r in range(m) for c in range(n)})\n",
    "centeroid_vector =  zero_vec(D)\n",
    "for key in dict_images_unclassified:\n",
    "    centeroid_vector = centeroid_vector + dict_images_unclassified[key]\n",
    "centeroid_vector = 0.05*(centeroid_vector) \n",
    "# now subtract centeroid vector\n",
    "for key in dict_images_unclassified:\n",
    "    dict_images_unclassified[key] = dict_images_unclassified[key]  - centeroid_vector"
   ]
  },
  {
   "cell_type": "code",
   "execution_count": 15,
   "metadata": {
    "collapsed": false
   },
   "outputs": [
    {
     "name": "stdout",
     "output_type": "stream",
     "text": [
      "0\n",
      "57999970.308500014\n",
      "1\n",
      "64211617.60975072\n",
      "2\n",
      "34419878.48969017\n",
      "3\n",
      "40976058.6124642\n",
      "4\n",
      "34790939.92391071\n",
      "5\n",
      "43611841.10418683\n",
      "6\n",
      "85904090.56303279\n",
      "7\n",
      "25806534.69507649\n",
      "8\n",
      "99594724.49284334\n",
      "9\n",
      "76986309.55563894\n"
     ]
    }
   ],
   "source": [
    "for x in range(11):\n",
    "    if distance_squared(rowdict2mat(eigenfaces),dict_images_unclassified[x]) <= 10**8 :\n",
    "                        print(x)\n",
    "                        print(distance_squared(rowdict2mat(eigenfaces),dict_images_unclassified[x]))\n",
    "                        \n",
    "\n"
   ]
  },
  {
   "cell_type": "code",
   "execution_count": 18,
   "metadata": {
    "collapsed": false
   },
   "outputs": [
    {
     "data": {
      "text/plain": [
       "125735512.30149984"
      ]
     },
     "execution_count": 18,
     "metadata": {},
     "output_type": "execute_result"
    }
   ],
   "source": [
    "projection_length_squared(rowdict2mat(eigenfaces),dict_images[0])\n",
    "projection_length_squared(rowdict2mat(eigenfaces),dict_images_unclassified[0])"
   ]
  },
  {
   "cell_type": "code",
   "execution_count": 20,
   "metadata": {
    "collapsed": false
   },
   "outputs": [
    {
     "name": "stdout",
     "output_type": "stream",
     "text": [
      "\n",
      "           0      1     2\n",
      "     --------------------\n",
      " 0  |  0.707  0.707     0\n",
      " 1  |  0.577 -0.577 0.577\n",
      "\n",
      "\n",
      "  0  1  2\n",
      "---------\n",
      " 10 20 30\n"
     ]
    }
   ],
   "source": [
    "print(transpose(test_M))\n",
    "print(test_x)"
   ]
  }
 ],
 "metadata": {
  "kernelspec": {
   "display_name": "Python 3",
   "language": "python",
   "name": "python3"
  },
  "language_info": {
   "codemirror_mode": {
    "name": "ipython",
    "version": 3
   },
   "file_extension": ".py",
   "mimetype": "text/x-python",
   "name": "python",
   "nbconvert_exporter": "python",
   "pygments_lexer": "ipython3",
   "version": "3.5.1"
  }
 },
 "nbformat": 4,
 "nbformat_minor": 0
}
