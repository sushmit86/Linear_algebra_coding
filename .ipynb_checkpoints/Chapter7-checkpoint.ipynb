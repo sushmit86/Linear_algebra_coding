{
 "cells": [
  {
   "cell_type": "code",
   "execution_count": 14,
   "metadata": {
    "collapsed": false
   },
   "outputs": [
    {
     "data": {
      "text/plain": [
       "[Vec({0, 1, 2, 3, 4},{0: 1, 1: 2, 2: 3, 3: 4, 4: 5}),\n",
       " Vec({0, 1, 2, 3, 4},{0: 0, 1: 2, 2: 3, 3: 4, 4: 5}),\n",
       " Vec({0, 1, 2, 3, 4},{0: 0, 1: 0, 2: 0, 3: 3, 4: 2}),\n",
       " Vec({0, 1, 2, 3, 4},{0: 0.0, 1: 0.0, 2: 0.0, 3: 0.0, 4: 3.0})]"
      ]
     },
     "execution_count": 14,
     "metadata": {},
     "output_type": "execute_result"
    }
   ],
   "source": [
    "#col_label_list = sorted(rowlist[0].D, key=hash)\n",
    "from vec import  Vec\n",
    "from mat import Mat\n",
    "from matutil import *\n",
    "from echelon import *\n",
    "from vecutil import *\n",
    "from GF2 import one\n",
    "#import ipdb\n",
    "new_rowlist = []\n",
    "\n",
    "label_list = [0,1,2,3,4] \n",
    "D = set(label_list) \n",
    "rowlist=[Vec(D,{0:0,1:2,2:3,3:4,4:5}), \n",
    "         Vec(D,{0:0,1:0,2:0,3:3,4:2}), \n",
    "         Vec(D,{0:1,1:2,2:3,3:4,4:5}), \n",
    "         Vec(D,{0:0,1:0,2:0,3:6,4:7}),\n",
    "         Vec(D,{0:0,1:0,2:0,3:9,4:9})]\n",
    "\n",
    "\n",
    "\n",
    "col_label_list = sorted(rowlist[0].D ,key = hash)\n",
    "col_label_list\n",
    "\n",
    "new_rowlist = []\n",
    "rows_left = set(range(len(rowlist)))\n",
    "rows_left\n",
    "#help(sorted)\n",
    "#ipdb.set_trace()\n",
    "\n",
    "for c1 in col_label_list:\n",
    "    rows_with_nonzero = [r for r in rows_left if rowlist[r][c1] != 0]\n",
    "    #%debug \n",
    "    if rows_with_nonzero != []:\n",
    "        pivot = rows_with_nonzero[0]\n",
    "        new_rowlist.append(rowlist[pivot])\n",
    "        rows_left.remove(pivot)\n",
    "        for r in rows_with_nonzero[1:]:\n",
    "            multiplier = rowlist[r][c1]/rowlist[pivot][c1]\n",
    "            rowlist[r] -= multiplier * rowlist[pivot]\n",
    "new_rowlist"
   ]
  },
  {
   "cell_type": "code",
   "execution_count": 10,
   "metadata": {
    "collapsed": false
   },
   "outputs": [
    {
     "name": "stdout",
     "output_type": "stream",
     "text": [
      "\n",
      "       A B C D\n",
      "     ---------\n",
      " 1  |  1 1 0 0\n",
      " 2  |  1 0 1 0\n",
      " 3  |  0 1 1 1\n",
      " 4  |  1 0 0 0\n",
      "\n",
      "\n",
      "         A   B   C   D\n",
      "     -----------------\n",
      " 0  |  one one   0   0\n",
      " 1  |    0 one one   0\n",
      " 2  |    0   0   0 one\n",
      " 3  |    0   0 one one\n",
      "\n"
     ]
    }
   ],
   "source": [
    "from cracking_rand import *\n",
    "import random\n",
    "prng = random.Random()\n",
    "n  = 64\n",
    "data = [prng.getrandbits(32) for k in range(n)]\n",
    "seed = prng.getstate()[1][:n]\n",
    "\n",
    "Bd = (set([1,2,3,4]), set(['A','B','C','D']))\n",
    "Bf = {k:1 for k in {(1,'A'),(1,'B'),(2,'A'),(2,'C'),(3,'B'),(3,'C'),(3,'D'),(4,'A')}}\n",
    "B=Mat(Bd, Bf)\n",
    "\n",
    "print(B)\n",
    "print(transformation(B)*B)\n"
   ]
  },
  {
   "cell_type": "code",
   "execution_count": 4,
   "metadata": {
    "collapsed": false
   },
   "outputs": [
    {
     "name": "stdout",
     "output_type": "stream",
     "text": [
      "\n",
      "       0 1 2 3\n",
      "     ---------\n",
      " 0  |  0 2 4 2\n",
      " 1  |  2 1 0 0\n",
      " 2  |  0 0 0 0\n",
      " 3  |  0 0 0 0\n",
      "\n"
     ]
    }
   ],
   "source": [
    "Bd = (set([0,1,2,3]), set([0,1,2,3]))\n",
    "Bf = {(0,1):2, (0,2):4,(0,3):2,(0,4):8,(1,0):2,(1,1):1}\n",
    "B=Mat(Bd, Bf)\n",
    "print(B)"
   ]
  },
  {
   "cell_type": "code",
   "execution_count": 6,
   "metadata": {
    "collapsed": false
   },
   "outputs": [
    {
     "name": "stdout",
     "output_type": "stream",
     "text": [
      "Enter the entry for row: 0 col: 0 1\n",
      "Enter the entry for row: 0 col: 1 1\n",
      "Enter the entry for row: 0 col: 2 1\n",
      "Enter the entry for row: 0 col: 3 1\n",
      "Enter the entry for row: 0 col: 4 \n",
      "Enter the entry for row: 1 col: 0 \n",
      "Enter the entry for row: 1 col: 1 \n",
      "Enter the entry for row: 1 col: 2 \n",
      "Enter the entry for row: 1 col: 3 \n",
      "Enter the entry for row: 1 col: 4 \n",
      "Enter the entry for row: 2 col: 0 \n",
      "Enter the entry for row: 2 col: 1 \n",
      "Enter the entry for row: 2 col: 2 \n",
      "Enter the entry for row: 2 col: 3 \n",
      "Enter the entry for row: 2 col: 4 \n",
      "Enter the entry for row: 3 col: 0 \n",
      "Enter the entry for row: 3 col: 1 \n",
      "Enter the entry for row: 3 col: 2 \n",
      "Enter the entry for row: 3 col: 3 \n",
      "Enter the entry for row: 3 col: 4 \n"
     ]
    }
   ],
   "source": [
    "Bd = (set([0,1,2,3]), set([0,1,2,3,4]))\n",
    "Bf = {}\n",
    "B=Mat(Bd, Bf)\n",
    "#Mat.input_Matrix(B)\n",
    "\n",
    "import random"
   ]
  },
  {
   "cell_type": "code",
   "execution_count": 70,
   "metadata": {
    "collapsed": false
   },
   "outputs": [
    {
     "name": "stdout",
     "output_type": "stream",
     "text": [
      "[0, 0, one, 0, 0, 0]\n",
      "0\n"
     ]
    }
   ],
   "source": [
    "a0 = list2vec([one,one,0,one,0,one])\n",
    "b0 = list2vec([one,one,0,0,0,one])\n",
    "\n",
    "import random\n",
    "def randGF2() : return random.randint(0,1)*one\n",
    "\n",
    "# Task 7.7.1\n",
    "def choose_secret_vector(s,t):\n",
    "    # generate the random 6 vector u\n",
    "    u_list = [randGF2() for i in range(6)]\n",
    "    u_vec = list2vec(u_list)\n",
    "    if (a0*u_vec) != s or (b0 * u_vec) != t:\n",
    "        choose_secret_vector(s,t)\n",
    "    \n",
    "    return u_vec\n",
    "\n",
    "print ([randGF2() for i in range(6)])\n",
    "#choose_secret_vector(one,one)\n",
    "\n",
    "print ( choose_secret_vector(one,0))\n",
    "\n"
   ]
  }
 ],
 "metadata": {
  "kernelspec": {
   "display_name": "Python 3",
   "language": "python",
   "name": "python3"
  },
  "language_info": {
   "codemirror_mode": {
    "name": "ipython",
    "version": 3
   },
   "file_extension": ".py",
   "mimetype": "text/x-python",
   "name": "python",
   "nbconvert_exporter": "python",
   "pygments_lexer": "ipython3",
   "version": "3.5.1"
  }
 },
 "nbformat": 4,
 "nbformat_minor": 0
}
