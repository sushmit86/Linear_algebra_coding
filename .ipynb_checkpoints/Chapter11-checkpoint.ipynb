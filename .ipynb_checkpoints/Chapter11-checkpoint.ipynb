{
 "cells": [
  {
   "cell_type": "code",
   "execution_count": 110,
   "metadata": {
    "collapsed": false
   },
   "outputs": [],
   "source": [
    "# Example 9.6.7\n",
    "from vec import  *\n",
    "from mat import *\n",
    "from matutil import *\n",
    "from vecutil import *\n",
    "from GF2 import one\n",
    "from orthogonalization import *\n",
    "from orthonormalization import *\n",
    "import independence\n",
    "from QR import *\n",
    "from eigenfaces import *\n",
    "from image import  *\n",
    "from svd import  *\n",
    "\n",
    "s =[1,3]\n",
    "\n",
    "[s[i] for i in range(len(s)) if i %2 == 0]\n",
    "\n",
    "def FFT(w, s):\n",
    "    n = len(s) \n",
    "    if n==1: return [s[0]] \n",
    "    f0 = FFT(w*w, [s[i] for i in range(n) if i % 2 == 0]) \n",
    "    f1 = FFT(w*w, [s[i] for i in range(n) if i % 2 == 1]) \n",
    "    return [f0[j]+w**j*f1[j] for j in range(n//2)] + [f0[j]-w**(j+n//2)*f1[j] for j in range(n//2)]\n",
    "\n"
   ]
  },
  {
   "cell_type": "code",
   "execution_count": 102,
   "metadata": {
    "collapsed": false
   },
   "outputs": [],
   "source": [
    "# Task 11.6.1\n",
    "ret_images=load_images('/Users/sushmitroy/Linear_algebra_coding/faces')\n",
    "# Create domain for images\n",
    "m,n = 189, 166\n",
    "D =  {(x,y) for x in range(n) for y in range(m)}\n",
    "\n",
    "dict_images = {}\n",
    "# Creating the dictionary \n",
    "for key in ret_images:\n",
    "    L=ret_images[key]\n",
    "    dict_images[key]=Vec(D,{(r,c):L[r][c] for r in range(m) for c in range(n)})\n",
    "    \n",
    "# dict_images is dict with values as vecs of images\n",
    "\n",
    "# Task 11.6.2\n",
    "# computing the centeroird\n",
    "# Create a centoird vector \n",
    "\n",
    "centeroid_vector =  zero_vec(D)\n",
    "for key in dict_images:\n",
    "    centeroid_vector = centeroid_vector + dict_images[key]\n",
    "centeroid_vector = 0.05*(centeroid_vector) \n",
    "\n",
    "# now subtract centeroid vector\n",
    "\n",
    "for key in dict_images:\n",
    "    dict_images[key] = dict_images[key]  - centeroid_vector\n",
    "\n"
   ]
  },
  {
   "cell_type": "code",
   "execution_count": 105,
   "metadata": {
    "collapsed": false
   },
   "outputs": [],
   "source": [
    "for key in ret_images:\n",
    "     for r in range(n):\n",
    "            for c in range(m):\n",
    "                ret_images[key][c][r] = dict_images[key][(r,c)]\n",
    "                "
   ]
  },
  {
   "cell_type": "code",
   "execution_count": 111,
   "metadata": {
    "collapsed": false
   },
   "outputs": [],
   "source": [
    "A=rowdict2mat(dict_images)\n",
    "u,w,vt = factor(A)"
   ]
  },
  {
   "cell_type": "code",
   "execution_count": 113,
   "metadata": {
    "collapsed": false
   },
   "outputs": [
    {
     "data": {
      "text/plain": [
       "Mat(({0, 1, 2, 3, 4, 5, 6, 7, 8, 9, 10, 11, 12, 13, 14, 15, 16, 17, 18, 19}, {0, 1, 2, 3, 4, 5, 6, 7, 8, 9, 10, 11, 12, 13, 14, 15, 16, 17, 18, 19}), {(14, 14): 3490.2353553651055, (13, 13): 3554.8686393380212, (0, 0): 20923.486328041065, (3, 3): 8571.324902340108, (6, 6): 5107.829703166606, (5, 5): 5160.144261000115, (18, 18): 2549.608995590782, (11, 11): 4082.9918420019403, (9, 9): 4480.762914620123, (17, 17): 2955.7257805007816, (10, 10): 4118.681714324726, (8, 8): 4595.613498145862, (16, 16): 3121.2003437902304, (12, 12): 3827.5028461739685, (2, 2): 10184.697156718108, (7, 7): 4904.8524998959965, (15, 15): 3224.2488525191366, (1, 1): 12810.3335028356, (4, 4): 6739.850128295617, (19, 19): 3.5340809662939475e-11})"
      ]
     },
     "execution_count": 113,
     "metadata": {},
     "output_type": "execute_result"
    }
   ],
   "source": [
    "w"
   ]
  }
 ],
 "metadata": {
  "kernelspec": {
   "display_name": "Python 3",
   "language": "python",
   "name": "python3"
  },
  "language_info": {
   "codemirror_mode": {
    "name": "ipython",
    "version": 3
   },
   "file_extension": ".py",
   "mimetype": "text/x-python",
   "name": "python",
   "nbconvert_exporter": "python",
   "pygments_lexer": "ipython3",
   "version": "3.5.1"
  }
 },
 "nbformat": 4,
 "nbformat_minor": 0
}
