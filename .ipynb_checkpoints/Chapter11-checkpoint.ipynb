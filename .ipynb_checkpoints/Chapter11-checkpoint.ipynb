{
 "cells": [
  {
   "cell_type": "code",
   "execution_count": null,
   "metadata": {
    "collapsed": false
   },
   "outputs": [],
   "source": [
    "# Example 9.6.7\n",
    "from vec import  *\n",
    "from mat import *\n",
    "from matutil import *\n",
    "from vecutil import *\n",
    "from GF2 import one\n",
    "from orthogonalization import *\n",
    "from orthonormalization import *\n",
    "import independence\n",
    "from QR import *\n",
    "from eigenfaces import *\n",
    "from image import  *\n",
    "from svd import  *\n",
    "from orthonormalization import *\n",
    "from orthogonalization import *\n",
    "from solver import *\n",
    "\n",
    "s =[1,3]\n",
    "\n",
    "[s[i] for i in range(len(s)) if i %2 == 0]\n",
    "\n",
    "def FFT(w, s):\n",
    "    n = len(s) \n",
    "    if n==1: return [s[0]] \n",
    "    f0 = FFT(w*w, [s[i] for i in range(n) if i % 2 == 0]) \n",
    "    f1 = FFT(w*w, [s[i] for i in range(n) if i % 2 == 1]) \n",
    "    return [f0[j]+w**j*f1[j] for j in range(n//2)] + [f0[j]-w**(j+n//2)*f1[j] for j in range(n//2)]\n",
    "\n"
   ]
  },
  {
   "cell_type": "code",
   "execution_count": null,
   "metadata": {
    "collapsed": false
   },
   "outputs": [],
   "source": [
    "# Task 11.6.1\n",
    "ret_images=load_images('faces')\n",
    "# Create domain for images\n",
    "m,n = 189, 166\n",
    "D =  {(x,y) for x in range(n) for y in range(m)}\n",
    "dict_images = {}\n",
    "# Creating the dictionary \n",
    "for key in ret_images:\n",
    "    L=ret_images[key]\n",
    "    dict_images[key]=Vec(D,{(r,c):L[r][c] for r in range(m) for c in range(n)})\n",
    "    \n",
    "# dict_images is dict with values as vecs of images\n",
    "\n",
    "# Task 11.6.2\n",
    "# computing the centeroird\n",
    "# Create a centoird vector \n",
    "\n",
    "centeroid_vector =  zero_vec(D)\n",
    "for key in dict_images:\n",
    "    centeroid_vector = centeroid_vector + dict_images[key]\n",
    "centeroid_vector = 0.05*(centeroid_vector) \n",
    "\n",
    "# now subtract centeroid vector\n",
    "\n",
    "for key in dict_images:\n",
    "    dict_images[key] = dict_images[key]  - centeroid_vector\n",
    "\n"
   ]
  },
  {
   "cell_type": "code",
   "execution_count": null,
   "metadata": {
    "collapsed": false
   },
   "outputs": [],
   "source": [
    "for key in ret_images:\n",
    "     for r in range(n):\n",
    "            for c in range(m):\n",
    "                ret_images[key][c][r] = dict_images[key][(r,c)]                "
   ]
  },
  {
   "cell_type": "code",
   "execution_count": null,
   "metadata": {
    "collapsed": false
   },
   "outputs": [],
   "source": [
    "# 11.6.3\n",
    "A=rowdict2mat(dict_images)\n",
    "u,w,v = factor(A)\n",
    "v_col_dict = mat2coldict(v)\n",
    "eigenfaces =  {x:v_col_dict[x] for x in range (10)}"
   ]
  },
  {
   "cell_type": "code",
   "execution_count": null,
   "metadata": {
    "collapsed": false
   },
   "outputs": [],
   "source": [
    "# 11.6.4\n",
    "# Input rows of M are orthonormal\n",
    "def project_representation(M , x):\n",
    "    rows_mat = mat2rowdict(M)\n",
    "    key_list = list(rows_mat.keys())\n",
    "    v_list = dict2list(rows_mat, key_list)\n",
    "    x_project_orthogonal = project_orthogonal(x, v_list)\n",
    "    x_project = x - x_project_orthogonal\n",
    "    return solve(transpose(M),x_project)\n",
    "project_representation(transpose(test_M), test_x)"
   ]
  },
  {
   "cell_type": "code",
   "execution_count": null,
   "metadata": {
    "collapsed": false
   },
   "outputs": [],
   "source": [
    "# 11.6.5\n",
    "def projection_length_sqaured(M,x):\n",
    "    rows_mat = mat2rowdict(M)\n",
    "    key_list = list(rows_mat.keys())\n",
    "    v_list = dict2list(rows_mat, key_list)\n",
    "    x_project_orthogonal = project_orthogonal(x, v_list)\n",
    "    x_project = x - x_project_orthogonal\n",
    "    return(x_project * x_project )\n",
    "projection_length_sqaured(transpose(test_M), test_x)"
   ]
  },
  {
   "cell_type": "code",
   "execution_count": null,
   "metadata": {
    "collapsed": false
   },
   "outputs": [],
   "source": [
    "# 11.6.6\n",
    "def projection_length_sqaured(M,x):\n",
    "    rows_mat = mat2rowdict(M)\n",
    "    key_list = list(rows_mat.keys())\n",
    "    v_list = dict2list(rows_mat, key_list)\n",
    "    x_project_orthogonal = project_orthogonal(x, v_list)\n",
    "    return(x_project_orthogonal * x_project_orthogonal )\n",
    "projection_length_sqaured(transpose(test_M), test_x)"
   ]
  },
  {
   "cell_type": "code",
   "execution_count": null,
   "metadata": {
    "collapsed": false
   },
   "outputs": [],
   "source": [
    "projection_length_sqaured(rowdict2mat(eigenfaces),dict_images[0])"
   ]
  },
  {
   "cell_type": "code",
   "execution_count": null,
   "metadata": {
    "collapsed": true
   },
   "outputs": [],
   "source": [
    "# Task 11.6.9\n",
    "unclassified_images=load_images('unclassified')\n",
    "# Create domain for images\n",
    "m,n = 189, 166\n",
    "D =  {(x,y) for x in range(n) for y in range(m)}\n",
    "dict_images_unclassified = {}\n",
    "# Creating the dictionary \n",
    "for key in unclassified_images:\n",
    "    L=unclassified_images[key]\n",
    "    dict_images_unclassified[key]=Vec(D,{(r,c):L[r][c] for r in range(m) for c in range(n)})\n",
    "centeroid_vector =  zero_vec(D)\n",
    "for key in dict_images:\n",
    "    centeroid_vector = centeroid_vector + dict_images_unclassified[key]\n",
    "centeroid_vector = 0.05*(centeroid_vector) \n",
    "# now subtract centeroid vector\n",
    "for key in dict_images:\n",
    "    dict_images_unclassified[key] = dict_images_unclassified[key]  - centeroid_vector"
   ]
  }
 ],
 "metadata": {
  "kernelspec": {
   "display_name": "Python 3",
   "language": "python",
   "name": "python3"
  },
  "language_info": {
   "codemirror_mode": {
    "name": "ipython",
    "version": 3
   },
   "file_extension": ".py",
   "mimetype": "text/x-python",
   "name": "python",
   "nbconvert_exporter": "python",
   "pygments_lexer": "ipython3",
   "version": "3.5.1"
  }
 },
 "nbformat": 4,
 "nbformat_minor": 0
}
