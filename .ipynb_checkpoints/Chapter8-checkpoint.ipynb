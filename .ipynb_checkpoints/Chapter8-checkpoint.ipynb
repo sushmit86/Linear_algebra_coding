{
 "cells": [
  {
   "cell_type": "code",
   "execution_count": 1,
   "metadata": {
    "collapsed": false
   },
   "outputs": [],
   "source": [
    "#col_label_list = sorted(rowlist[0].D, key=hash)\n",
    "from vec import  *\n",
    "from mat import *\n",
    "from matutil import *\n",
    "from echelon import *\n",
    "from vecutil import *\n",
    "from GF2 import one\n",
    "from cancer_data import *\n",
    "from random import randint\n",
    "\n"
   ]
  },
  {
   "cell_type": "code",
   "execution_count": 5,
   "metadata": {
    "collapsed": false
   },
   "outputs": [
    {
     "name": "stdout",
     "output_type": "stream",
     "text": [
      "\n",
      "           0     1      2\n",
      "     --------------------\n",
      " 0  |  0.643 0.429  0.214\n",
      " 1  |  0.429 0.286  0.143\n",
      " 2  |  0.214 0.143 0.0714\n",
      "\n"
     ]
    }
   ],
   "source": [
    "def projection_matrix(v):\n",
    "    v_norm = v * v\n",
    "    ret_dict = {}\n",
    "    if v_norm == 0: # which means it is a zero vector\n",
    "        ret_dict[0] = v\n",
    "        return  coldict2mat(ret_dict) * rowdict2mat(ret_dict)\n",
    "    else :\n",
    "        ret_dict[0] = v\n",
    "        v_norm_denom = v_norm**(-1)\n",
    "        return  v_norm_denom*(coldict2mat(ret_dict) * rowdict2mat(ret_dict))\n",
    "    \n",
    "    return 0\n",
    "a0 = list2vec([3,2,1])\n",
    "\n",
    "print(projection_matrix(a0))\n"
   ]
  },
  {
   "cell_type": "code",
   "execution_count": 84,
   "metadata": {
    "collapsed": false
   },
   "outputs": [
    {
     "name": "stdout",
     "output_type": "stream",
     "text": [
      "0.5133333333333333\n",
      "251.48575015614264\n",
      "0.5133333333333333\n",
      "239.60493428739343\n",
      "0.43666666666666665\n",
      "231.40824818042668\n",
      "0.2733333333333333\n",
      "225.56255090923807\n",
      "0.18999999999999995\n",
      "221.22860653417982\n",
      "0.14\n",
      "217.87747990476916\n",
      "0.09666666666666668\n",
      "215.17521877301024\n",
      "0.07666666666666666\n",
      "212.91042329447436\n",
      "0.1461538461538462\n",
      "211.13191351373072\n"
     ]
    }
   ],
   "source": [
    "A= read_training_data('train.data')[0]\n",
    "b = read_training_data('train.data')[1]\n",
    "\n",
    "# Task 8.4.2\n",
    "\n",
    "def signum(u):\n",
    "    return ( Vec(u.D,{key:1 if u[key] >=0 else -1  for key in u.f }))\n",
    "signum(Vec({'A','B'}, {'A':3, 'B':-2}))\n",
    "\n",
    "# task 8.4.3\n",
    "def fraction_wrong( A, b , w): return (1 -  0.25 *((b  + signum(A *w)) * (b  + signum(A *w)))/(b * b))\n",
    "# task 8.4.4\n",
    "def loss( A, b, w): return (A * w - b) * (A * w - b)\n",
    "\n",
    "# Task 8.4.9\n",
    "def find_grad( A, b , w): return 2*(A * w - b) * A\n",
    "\n",
    "\n",
    "# Task 8.4.10\n",
    "\n",
    "def gradient_descent_step(A , b , w , sigma):\n",
    "        return w - sigma * find_grad(A , b , w )\n",
    "def gradient_descent(A,b,w,sigma,T):\n",
    "    index = 1\n",
    "    w_next = w\n",
    "    for i in range(T):\n",
    "        if ( index%30 ==0):\n",
    "            print(fraction_wrong(A,b,w_next))\n",
    "            print(loss( A, b, w_next))\n",
    "        w_next = gradient_descent_step(A,b,w_next,sigma)\n",
    "        index = index + 1\n",
    "    return w_next\n",
    "\n",
    "# creating w as an example \n",
    "\n",
    "#mat2rowdict(A).values()\n",
    "\n",
    "#w= Vec(next (iter (mat2rowdict(A).values())).D ,{key:(-1)**randint(1,2) for key in next (iter (mat2rowdict(A).values())).D})\n",
    "w= Vec(next (iter (mat2rowdict(A).values())).D ,{key:0 for key in next (iter (mat2rowdict(A).values())).D})\n",
    "\n",
    "# print (w )\n",
    "# print ( fraction_wrong(A,b,w))\n",
    "# print(loss( A, b, w))\n",
    "# print(find_grad( A, b , w))\n",
    "\n",
    "sigma = 1e-9\n",
    "\n",
    "w_ret=gradient_descent(A,b,w,sigma,240)\n",
    "\n",
    "# Read Vali date data \n",
    "\n",
    "A= read_training_data('validate.data')[0]\n",
    "b = read_training_data('validate.data')[1]\n",
    "print('------------------')\n",
    "print(fraction_wrong(A,b,w_ret))\n",
    "print(loss( A, b, w_ret))"
   ]
  },
  {
   "cell_type": "code",
   "execution_count": null,
   "metadata": {
    "collapsed": true
   },
   "outputs": [],
   "source": []
  }
 ],
 "metadata": {
  "kernelspec": {
   "display_name": "Python 3",
   "language": "python",
   "name": "python3"
  },
  "language_info": {
   "codemirror_mode": {
    "name": "ipython",
    "version": 3
   },
   "file_extension": ".py",
   "mimetype": "text/x-python",
   "name": "python",
   "nbconvert_exporter": "python",
   "pygments_lexer": "ipython3",
   "version": "3.5.1"
  }
 },
 "nbformat": 4,
 "nbformat_minor": 0
}
