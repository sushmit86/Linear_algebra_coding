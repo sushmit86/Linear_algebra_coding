{
 "cells": [
  {
   "cell_type": "code",
   "execution_count": 8,
   "metadata": {
    "collapsed": false
   },
   "outputs": [],
   "source": [
    "#col_label_list = sorted(rowlist[0].D, key=hash)\n",
    "from vec import  *\n",
    "from mat import *\n",
    "from matutil import *\n",
    "from echelon import *\n",
    "from vecutil import *\n",
    "from GF2 import one\n",
    "\n"
   ]
  },
  {
   "cell_type": "code",
   "execution_count": 19,
   "metadata": {
    "collapsed": false
   },
   "outputs": [
    {
     "name": "stdout",
     "output_type": "stream",
     "text": [
      "\n",
      "         0\n",
      "     -----\n",
      " 0  |    1\n",
      " 1  |  -89\n",
      " 2  |    0\n",
      "\n"
     ]
    }
   ],
   "source": [
    "def projection_matrix(v):\n",
    "    v_norm = v * v\n",
    "    return 0\n",
    "a0 = list2vec([1,-89,0])\n",
    "dict_a = {}\n",
    "dict_a[0] = a0\n",
    "print(coldict2mat(dict_a))"
   ]
  }
 ],
 "metadata": {
  "kernelspec": {
   "display_name": "Python 3",
   "language": "python",
   "name": "python3"
  },
  "language_info": {
   "codemirror_mode": {
    "name": "ipython",
    "version": 3
   },
   "file_extension": ".py",
   "mimetype": "text/x-python",
   "name": "python",
   "nbconvert_exporter": "python",
   "pygments_lexer": "ipython3",
   "version": "3.5.1"
  }
 },
 "nbformat": 4,
 "nbformat_minor": 0
}
