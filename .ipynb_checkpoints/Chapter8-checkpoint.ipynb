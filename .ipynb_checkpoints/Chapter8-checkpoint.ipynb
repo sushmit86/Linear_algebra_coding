{
 "cells": [
  {
   "cell_type": "code",
   "execution_count": 10,
   "metadata": {
    "collapsed": false
   },
   "outputs": [],
   "source": [
    "#col_label_list = sorted(rowlist[0].D, key=hash)\n",
    "from vec import  *\n",
    "from mat import *\n",
    "from matutil import *\n",
    "from echelon import *\n",
    "from vecutil import *\n",
    "from GF2 import one\n",
    "from cancer_data import *\n"
   ]
  },
  {
   "cell_type": "code",
   "execution_count": 9,
   "metadata": {
    "collapsed": false
   },
   "outputs": [
    {
     "name": "stdout",
     "output_type": "stream",
     "text": [
      "\n",
      "           0     1      2\n",
      "     --------------------\n",
      " 0  |  0.643 0.429  0.214\n",
      " 1  |  0.429 0.286  0.143\n",
      " 2  |  0.214 0.143 0.0714\n",
      "\n"
     ]
    }
   ],
   "source": [
    "def projection_matrix(v):\n",
    "    v_norm = v * v\n",
    "    ret_dict = {}\n",
    "    if v_norm == 0: # which means it is a zero vector\n",
    "        ret_dict[0] = v\n",
    "        return  coldict2mat(ret_dict) * rowdict2mat(ret_dict)\n",
    "    else :\n",
    "        ret_dict[0] = v\n",
    "        v_norm_denom = v_norm**(-1)\n",
    "        return  v_norm_denom*(coldict2mat(ret_dict) * rowdict2mat(ret_dict))\n",
    "    \n",
    "    return 0\n",
    "a0 = list2vec([3,2,1])\n",
    "\n",
    "print(projection_matrix(a0))\n"
   ]
  },
  {
   "cell_type": "code",
   "execution_count": 21,
   "metadata": {
    "collapsed": false
   },
   "outputs": [
    {
     "data": {
      "text/plain": [
       "Vec({'B', 'A'},{'B': -1, 'A': 1})"
      ]
     },
     "execution_count": 21,
     "metadata": {},
     "output_type": "execute_result"
    }
   ],
   "source": [
    "A= read_training_data('train.data')[0]\n",
    "b = read_training_data('train.data')[1]\n",
    "\n",
    "# Task 8.4.2\n",
    "\n",
    "def signum(u):\n",
    "    return ( Vec(u.D,{key:1 if u[key] >=0 else -1  for key in u.f }))\n",
    "signum(Vec({'A','B'}, {'A':3, 'B':-2}))\n",
    "\n",
    "def fraction_wrong( A, b , w): return (b*signum(w * A))/(b * b)"
   ]
  }
 ],
 "metadata": {
  "kernelspec": {
   "display_name": "Python 3",
   "language": "python",
   "name": "python3"
  },
  "language_info": {
   "codemirror_mode": {
    "name": "ipython",
    "version": 3
   },
   "file_extension": ".py",
   "mimetype": "text/x-python",
   "name": "python",
   "nbconvert_exporter": "python",
   "pygments_lexer": "ipython3",
   "version": "3.5.1"
  }
 },
 "nbformat": 4,
 "nbformat_minor": 0
}
