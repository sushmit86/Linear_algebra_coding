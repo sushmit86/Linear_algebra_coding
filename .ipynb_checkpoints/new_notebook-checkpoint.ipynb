{
 "cells": [
  {
   "cell_type": "code",
   "execution_count": 15,
   "metadata": {
    "collapsed": false
   },
   "outputs": [
    {
     "data": {
      "text/plain": [
       "[Vec({0, 1, 2, 3, 4},{0: 1, 1: 2, 2: 3, 3: 4, 4: 5}),\n",
       " Vec({0, 1, 2, 3, 4},{0: 0, 1: 2, 2: 3, 3: 4, 4: 5}),\n",
       " Vec({0, 1, 2, 3, 4},{0: 0, 1: 0, 2: 0, 3: 3, 4: 2}),\n",
       " Vec({0, 1, 2, 3, 4},{0: 0.0, 1: 0.0, 2: 0.0, 3: 0.0, 4: 3.0})]"
      ]
     },
     "execution_count": 15,
     "metadata": {},
     "output_type": "execute_result"
    }
   ],
   "source": [
    "#col_label_list = sorted(rowlist[0].D, key=hash)\n",
    "from vec import  Vec\n",
    "from mat import Mat\n",
    "from matutil import *\n",
    "from echelon import *\n",
    "#import ipdb\n",
    "new_rowlist = []\n",
    "\n",
    "label_list = [0,1,2,3,4] \n",
    "D = set(label_list) \n",
    "rowlist=[Vec(D,{0:0,1:2,2:3,3:4,4:5}), \n",
    "         Vec(D,{0:0,1:0,2:0,3:3,4:2}), \n",
    "         Vec(D,{0:1,1:2,2:3,3:4,4:5}), \n",
    "         Vec(D,{0:0,1:0,2:0,3:6,4:7}),\n",
    "         Vec(D,{0:0,1:0,2:0,3:9,4:9})]\n",
    "\n",
    "\n",
    "\n",
    "col_label_list = sorted(rowlist[0].D ,key = hash)\n",
    "col_label_list\n",
    "\n",
    "new_rowlist = []\n",
    "rows_left = set(range(len(rowlist)))\n",
    "rows_left\n",
    "#help(sorted)\n",
    "#ipdb.set_trace()\n",
    "\n",
    "for c1 in col_label_list:\n",
    "    rows_with_nonzero = [r for r in rows_left if rowlist[r][c1] != 0]\n",
    "    #%debug \n",
    "    if rows_with_nonzero != []:\n",
    "        pivot = rows_with_nonzero[0]\n",
    "        new_rowlist.append(rowlist[pivot])\n",
    "        rows_left.remove(pivot)\n",
    "        for r in rows_with_nonzero[1:]:\n",
    "            multiplier = rowlist[r][c1]/rowlist[pivot][c1]\n",
    "            rowlist[r] -= multiplier * rowlist[pivot]\n",
    "new_rowlist"
   ]
  },
  {
   "cell_type": "code",
   "execution_count": 19,
   "metadata": {
    "collapsed": false
   },
   "outputs": [
    {
     "name": "stdout",
     "output_type": "stream",
     "text": [
      "\n",
      "       A B C D\n",
      "     ---------\n",
      " 1  |  1 1 0 0\n",
      " 2  |  1 0 1 0\n",
      " 3  |  0 1 1 1\n",
      " 4  |  1 0 0 0\n",
      "\n",
      "\n",
      "         A   B   C   D\n",
      "     -----------------\n",
      " 0  |  one one   0   0\n",
      " 1  |    0 one one   0\n",
      " 2  |    0   0   0 one\n",
      " 3  |    0   0 one one\n",
      "\n"
     ]
    }
   ],
   "source": [
    "from cracking_rand import *\n",
    "import random\n",
    "prng = random.Random()\n",
    "n  = 64\n",
    "data = [prng.getrandbits(32) for k in range(n)]\n",
    "seed = prng.getstate()[1][:n]\n",
    "\n",
    "Bd = (set([1,2,3,4]), set(['A','B','C','D']))\n",
    "Bf = {k:1 for k in {(1,'A'),(1,'B'),(2,'A'),(2,'C'),(3,'B'),(3,'C'),(3,'D'),(4,'A')}}\n",
    "B=Mat(Bd, Bf)\n",
    "\n",
    "print(B)\n",
    "print(transformation(B)*B)\n"
   ]
  },
  {
   "cell_type": "code",
   "execution_count": 25,
   "metadata": {
    "collapsed": false
   },
   "outputs": [
    {
     "ename": "SyntaxError",
     "evalue": "invalid syntax (<ipython-input-25-c7667042d346>, line 3)",
     "output_type": "error",
     "traceback": [
      "\u001b[0;36m  File \u001b[0;32m\"<ipython-input-25-c7667042d346>\"\u001b[0;36m, line \u001b[0;32m3\u001b[0m\n\u001b[0;31m    Bf = {(0,1):2, (0,2):4,(0,3):2,(0,4):8,(1,0):2,(1:1):1}\u001b[0m\n\u001b[0m                                                     ^\u001b[0m\n\u001b[0;31mSyntaxError\u001b[0m\u001b[0;31m:\u001b[0m invalid syntax\n"
     ]
    }
   ],
   "source": [
    "\n",
    "Bd = (set([0,1,2,3]), set([0,1,2,3]))\n",
    "Bf = {(0,1):2, (0,2):4,(0,3):2,(0,4):8,(1,0):2,(1:1):1}\n",
    "B=Mat(Bd, Bf)\n",
    "print(B)"
   ]
  },
  {
   "cell_type": "code",
   "execution_count": 70,
   "metadata": {
    "collapsed": false
   },
   "outputs": [
    {
     "name": "stdout",
     "output_type": "stream",
     "text": [
      "Enter the entry for row: 0 col: 0 \n",
      "Enter the entry for row: 0 col: 1 2\n",
      "Enter the entry for row: 0 col: 2 4\n",
      "Enter the entry for row: 0 col: 3 2\n",
      "Enter the entry for row: 0 col: 4 8\n",
      "Enter the entry for row: 1 col: 0 2\n",
      "Enter the entry for row: 1 col: 1 1\n",
      "Enter the entry for row: 1 col: 2 \n",
      "Enter the entry for row: 1 col: 3 5\n",
      "Enter the entry for row: 1 col: 4 4\n",
      "Enter the entry for row: 2 col: 0 4\n",
      "Enter the entry for row: 2 col: 1 1\n",
      "Enter the entry for row: 2 col: 2 2\n",
      "Enter the entry for row: 2 col: 3 4\n",
      "Enter the entry for row: 2 col: 4 2\n",
      "Enter the entry for row: 3 col: 0 5\n",
      "Enter the entry for row: 3 col: 1 0\n",
      "Enter the entry for row: 3 col: 2 \n",
      "Enter the entry for row: 3 col: 3 2\n",
      "Enter the entry for row: 3 col: 4 8\n",
      "\n",
      "       0 1 2 3 4\n",
      "     -----------\n",
      " 0  |  0 2 4 2 8\n",
      " 1  |  2 1 0 5 4\n",
      " 2  |  4 1 2 4 2\n",
      " 3  |  5 0 0 2 8\n",
      "\n"
     ]
    }
   ],
   "source": [
    "Bd = (set([0,1,2,3]), set([0,1,2,3,4]))\n",
    "Bf = {}\n",
    "B=Mat(Bd, Bf)\n",
    "for i in B.D[0]:\n",
    "    for j in B.D[1]:\n",
    "        B[i,j]= input(\"Enter the entry for row: \" + str(i) + \" col: \" + str(j) + \" \" )\n",
    "        if B[i,j]=='':\n",
    "            B[i,j]=0\n",
    "        else:\n",
    "            B[i,j] = int(B[i,j])\n",
    "\n",
    "print(B)"
   ]
  },
  {
   "cell_type": "code",
   "execution_count": 71,
   "metadata": {
    "collapsed": false
   },
   "outputs": [
    {
     "ename": "TypeError",
     "evalue": "unsupported operand type(s) for /: 'str' and 'str'",
     "output_type": "error",
     "traceback": [
      "\u001b[0;31m---------------------------------------------------------------------------\u001b[0m",
      "\u001b[0;31mTypeError\u001b[0m                                 Traceback (most recent call last)",
      "\u001b[0;32m<ipython-input-71-e8e37750f95a>\u001b[0m in \u001b[0;36m<module>\u001b[0;34m()\u001b[0m\n\u001b[0;32m----> 1\u001b[0;31m \u001b[0mprint\u001b[0m\u001b[0;34m(\u001b[0m\u001b[0mtransformation\u001b[0m\u001b[0;34m(\u001b[0m\u001b[0mB\u001b[0m\u001b[0;34m)\u001b[0m\u001b[0;34m)\u001b[0m\u001b[0;34m\u001b[0m\u001b[0m\n\u001b[0m",
      "\u001b[0;32m/Users/sroy/Personal/Linear_algebra_coding/echelon.py\u001b[0m in \u001b[0;36mtransformation\u001b[0;34m(A, col_label_list)\u001b[0m\n\u001b[1;32m     60\u001b[0m     \u001b[0mrow_label_list\u001b[0m \u001b[0;34m=\u001b[0m \u001b[0msorted\u001b[0m\u001b[0;34m(\u001b[0m\u001b[0mrow_labels\u001b[0m\u001b[0;34m,\u001b[0m \u001b[0mkey\u001b[0m\u001b[0;34m=\u001b[0m\u001b[0mrepr\u001b[0m\u001b[0;34m)\u001b[0m\u001b[0;34m\u001b[0m\u001b[0m\n\u001b[1;32m     61\u001b[0m     \u001b[0mrowlist\u001b[0m \u001b[0;34m=\u001b[0m \u001b[0;34m[\u001b[0m\u001b[0mVec\u001b[0m\u001b[0;34m(\u001b[0m\u001b[0mcol_labels\u001b[0m\u001b[0;34m,\u001b[0m \u001b[0;34m{\u001b[0m\u001b[0mc\u001b[0m\u001b[0;34m:\u001b[0m\u001b[0mA\u001b[0m\u001b[0;34m[\u001b[0m\u001b[0mr\u001b[0m\u001b[0;34m,\u001b[0m\u001b[0mc\u001b[0m\u001b[0;34m]\u001b[0m \u001b[0;32mfor\u001b[0m \u001b[0mc\u001b[0m \u001b[0;32min\u001b[0m \u001b[0mcol_labels\u001b[0m\u001b[0;34m}\u001b[0m\u001b[0;34m)\u001b[0m \u001b[0;32mfor\u001b[0m \u001b[0mr\u001b[0m \u001b[0;32min\u001b[0m \u001b[0mrow_label_list\u001b[0m\u001b[0;34m]\u001b[0m\u001b[0;34m\u001b[0m\u001b[0m\n\u001b[0;32m---> 62\u001b[0;31m     \u001b[0mM_rows\u001b[0m \u001b[0;34m=\u001b[0m \u001b[0mtransformation_rows\u001b[0m\u001b[0;34m(\u001b[0m\u001b[0mrowlist\u001b[0m\u001b[0;34m,\u001b[0m \u001b[0mcol_label_list\u001b[0m\u001b[0;34m)\u001b[0m\u001b[0;34m\u001b[0m\u001b[0m\n\u001b[0m\u001b[1;32m     63\u001b[0m     \u001b[0mM\u001b[0m \u001b[0;34m=\u001b[0m \u001b[0mMat\u001b[0m\u001b[0;34m(\u001b[0m\u001b[0;34m(\u001b[0m\u001b[0mset\u001b[0m\u001b[0;34m(\u001b[0m\u001b[0mrange\u001b[0m\u001b[0;34m(\u001b[0m\u001b[0mm\u001b[0m\u001b[0;34m)\u001b[0m\u001b[0;34m)\u001b[0m\u001b[0;34m,\u001b[0m \u001b[0mrow_labels\u001b[0m\u001b[0;34m)\u001b[0m\u001b[0;34m,\u001b[0m \u001b[0;34m{\u001b[0m\u001b[0;34m}\u001b[0m\u001b[0;34m)\u001b[0m\u001b[0;34m\u001b[0m\u001b[0m\n\u001b[1;32m     64\u001b[0m     \u001b[0;32mfor\u001b[0m \u001b[0mr\u001b[0m \u001b[0;32min\u001b[0m \u001b[0mrange\u001b[0m\u001b[0;34m(\u001b[0m\u001b[0mm\u001b[0m\u001b[0;34m)\u001b[0m\u001b[0;34m:\u001b[0m\u001b[0;34m\u001b[0m\u001b[0m\n",
      "\u001b[0;32m/Users/sroy/Personal/Linear_algebra_coding/echelon.py\u001b[0m in \u001b[0;36mtransformation_rows\u001b[0;34m(rowlist_input, col_label_list)\u001b[0m\n\u001b[1;32m     45\u001b[0m             \u001b[0mnew_M_rowlist\u001b[0m\u001b[0;34m.\u001b[0m\u001b[0mappend\u001b[0m\u001b[0;34m(\u001b[0m\u001b[0mM_rowlist\u001b[0m\u001b[0;34m[\u001b[0m\u001b[0mpivot\u001b[0m\u001b[0;34m]\u001b[0m\u001b[0;34m)\u001b[0m\u001b[0;34m\u001b[0m\u001b[0m\n\u001b[1;32m     46\u001b[0m             \u001b[0;32mfor\u001b[0m \u001b[0mr\u001b[0m \u001b[0;32min\u001b[0m \u001b[0mrows_with_nonzero\u001b[0m\u001b[0;34m[\u001b[0m\u001b[0;36m1\u001b[0m\u001b[0;34m:\u001b[0m\u001b[0;34m]\u001b[0m\u001b[0;34m:\u001b[0m\u001b[0;34m\u001b[0m\u001b[0m\n\u001b[0;32m---> 47\u001b[0;31m                 \u001b[0mmultiplier\u001b[0m \u001b[0;34m=\u001b[0m \u001b[0mrowlist\u001b[0m\u001b[0;34m[\u001b[0m\u001b[0mr\u001b[0m\u001b[0;34m]\u001b[0m\u001b[0;34m[\u001b[0m\u001b[0mc\u001b[0m\u001b[0;34m]\u001b[0m\u001b[0;34m/\u001b[0m\u001b[0mrowlist\u001b[0m\u001b[0;34m[\u001b[0m\u001b[0mpivot\u001b[0m\u001b[0;34m]\u001b[0m\u001b[0;34m[\u001b[0m\u001b[0mc\u001b[0m\u001b[0;34m]\u001b[0m\u001b[0;34m\u001b[0m\u001b[0m\n\u001b[0m\u001b[1;32m     48\u001b[0m                 \u001b[0mrowlist\u001b[0m\u001b[0;34m[\u001b[0m\u001b[0mr\u001b[0m\u001b[0;34m]\u001b[0m \u001b[0;34m-=\u001b[0m \u001b[0mmultiplier\u001b[0m\u001b[0;34m*\u001b[0m\u001b[0mrowlist\u001b[0m\u001b[0;34m[\u001b[0m\u001b[0mpivot\u001b[0m\u001b[0;34m]\u001b[0m\u001b[0;34m\u001b[0m\u001b[0m\n\u001b[1;32m     49\u001b[0m                 \u001b[0mM_rowlist\u001b[0m\u001b[0;34m[\u001b[0m\u001b[0mr\u001b[0m\u001b[0;34m]\u001b[0m \u001b[0;34m-=\u001b[0m \u001b[0mmultiplier\u001b[0m\u001b[0;34m*\u001b[0m\u001b[0mM_rowlist\u001b[0m\u001b[0;34m[\u001b[0m\u001b[0mpivot\u001b[0m\u001b[0;34m]\u001b[0m\u001b[0;34m\u001b[0m\u001b[0m\n",
      "\u001b[0;31mTypeError\u001b[0m: unsupported operand type(s) for /: 'str' and 'str'"
     ]
    }
   ],
   "source": [
    "print(transformation(B))"
   ]
  }
 ],
 "metadata": {
  "kernelspec": {
   "display_name": "Python 3",
   "language": "python",
   "name": "python3"
  },
  "language_info": {
   "codemirror_mode": {
    "name": "ipython",
    "version": 3
   },
   "file_extension": ".py",
   "mimetype": "text/x-python",
   "name": "python",
   "nbconvert_exporter": "python",
   "pygments_lexer": "ipython3",
   "version": "3.5.1"
  }
 },
 "nbformat": 4,
 "nbformat_minor": 0
}
