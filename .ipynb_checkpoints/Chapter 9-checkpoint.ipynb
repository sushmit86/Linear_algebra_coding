{
 "cells": [
  {
   "cell_type": "code",
   "execution_count": 1,
   "metadata": {
    "collapsed": true
   },
   "outputs": [],
   "source": [
    "# Example 9.6.7\n",
    "from vec import  *\n",
    "from mat import *\n",
    "from matutil import *\n",
    "from vecutil import *\n",
    "from GF2 import one\n",
    "from orthogonalization import *\n",
    "from orthonormalization import *\n",
    "import independence\n",
    "from QR import *"
   ]
  },
  {
   "cell_type": "code",
   "execution_count": 2,
   "metadata": {
    "collapsed": false
   },
   "outputs": [
    {
     "name": "stdout",
     "output_type": "stream",
     "text": [
      "[Vec({0, 1, 2, 3},{0: -4, 1: 3, 2: 1, 3: -2}), Vec({0, 1, 2, 3},{0: 0.5333333333333332, 1: 0.10000000000000009, 2: 2.3666666666666667, 3: 0.2666666666666666}), Vec({0, 1, 2, 3},{0: 0.41899441340782123, 1: 0.3910614525139665, 2: -0.07821229050279327, 3: -0.29050279329608936}), Vec({0, 1, 2, 3},{0: -1.1102230246251565e-16, 1: 0.33333333333333315, 2: -0.06666666666666665, 3: 0.46666666666666673}), Vec({0, 1, 2, 3},{0: 5.5511151231257815e-18, 1: -4.163336342344337e-17, 2: -1.9255430583342559e-16, 3: 0.0}), Vec({0, 1, 2, 3},{0: 2.1094237467877978e-16, 1: 2.220446049250313e-16, 2: -1.3877787807814457e-17, 3: -2.220446049250313e-16})]\n",
      "\n",
      "    0   1   2   3\n",
      "-----------------\n",
      " -120 -30 -90 -60\n"
     ]
    }
   ],
   "source": [
    "L = [list2vec(v) for v in [[8,-2,2], [0,3,3], [1,0,0], [0,1,0], [0,0,1]]]\n",
    "\n",
    "Lstar = orthogonalize(L)\n",
    "\n",
    "#print(Lstar)\n",
    "# Problem 9.11.1\n",
    "\n",
    "U1 = [list2vec(v) for v in [[0,0,3,2],[1,2,-3,-1],[1,2,0,1],[3,1,0,-1],[-1,-2,3,1]]]\n",
    "Lstar = orthogonalize(U1)\n",
    "\n",
    "#print(Lstar[1])\n",
    "\n",
    "\n",
    "#independence.is_independent(U1) \n",
    "\n",
    "U2 = [list2vec(v) for v in [[3,0,1],[1,0,0],[1,0,1]]]\n",
    "Lstar = orthogonalize(U2)\n",
    "#print(Lstar[2])\n",
    "\n",
    "U3 = [list2vec(v) for v in [[-4,3,1,-2],[-2,2,3,-1],[1,0,0,0],[0,1,0,0],[0,0,1,0],[0,0,0,1]]]\n",
    "Lstar = orthogonalize(U3)\n",
    "print(Lstar)\n",
    "\n",
    "\n",
    "# Problem 9.11.3\n",
    "\n",
    "#A = [list2vec(v)  for v in [[-4,0],[-1,4],[-3,0],[-2,-1]]]\n",
    "\n",
    "A = [list2vec(v)  for v in [[-4,-1,-3,-2],[0,4,0,-1],[1,0,0,0],[0,1,0,0],[0,0,1,0],[0,0,0,1]]]\n",
    "\n",
    "Basis = orthogonalize(A)\n",
    "print((Basis[0]*Basis[0]) *Basis[0])\n"
   ]
  },
  {
   "cell_type": "code",
   "execution_count": null,
   "metadata": {
    "collapsed": false,
    "scrolled": false
   },
   "outputs": [],
   "source": [
    "# Problem 9.11.9\n",
    "D = {'a','b','c','d'}\n",
    "L = [Vec(D, {'a':4,'b':3,'c':1,'d':2}), Vec(D, {'a':8,'b':9,'c':-5,'d':-5}), Vec(D, {'a':10,'b':1,'c':-1,'d':5})]\n",
    "for v in orthonormalize(L): print(v)\n",
    "\n",
    "# Problem 9.11.10    \n",
    "    \n",
    "# U2 = [list2vec(v) for v in [[0.73, 0.55, 0.18, 0.37], [0.19, 0.40, -0.57, -0.69], [0.53, -0.65, -0.51, 0.18]]]\n",
    "# #Lstar = orthogonalize(U2)\n",
    "\n",
    "# U3 = 1\n",
    "\n",
    "L = [list2vec(v) for v in [[4,3,1,2],[8,9,-5,-5],[10,1,-1,5]]]\n",
    "\n",
    "print(coldict2mat(L))\n",
    "\n",
    "#Qlist_unormalized = aug_orthogonalize(L)[0]\n",
    "#Rlist1 = aug_orthogonalize(L)[1]\n",
    "# print(coldict2mat(Qlist[1]))\n",
    "\n",
    "# print(mat2rowdict(coldict2mat(Qlist[1])))\n",
    "\n",
    "# print(Qlist[0]*Qlist[0])\n",
    "\n",
    "# print(2*mat2rowdict(coldict2mat(RList))[0])\n",
    "\n",
    "Qlist,Rlist = aug_orthonormalize(L)\n",
    "print(coldict2mat(Qlist))\n",
    "\n",
    "print(coldict2mat(Rlist))\n",
    "\n",
    "\n",
    "print(coldict2mat(Qlist)*coldict2mat(Rlist))\n",
    "\n",
    "# problem 9.11.12\n",
    "L = [list2vec(v) for v in [[6,2,3],[6,0,3]]]\n",
    "print(coldict2mat(L))\n",
    "\n",
    "Qlist,Rlist = aug_orthonormalize(L)\n",
    "print(coldict2mat(Qlist))\n",
    "\n",
    "print(coldict2mat(Rlist))\n",
    "print(coldict2mat(Qlist)*coldict2mat(Rlist))\n",
    "\n",
    "# problem 9.11.12\n",
    "L = [list2vec(v) for v in [[2,2,1],[3,1,1]]]\n",
    "print(coldict2mat(L))\n",
    "\n",
    "Qlist,Rlist = aug_orthonormalize(L)\n",
    "print(coldict2mat(Qlist))\n",
    "\n",
    "print(coldict2mat(Rlist))\n"
   ]
  },
  {
   "cell_type": "code",
   "execution_count": null,
   "metadata": {
    "collapsed": false
   },
   "outputs": [],
   "source": [
    "A=Mat(({'a','b','c'},{'A','B'}), {('a','A'):-1, ('a','B'):2, ('b','A'):5, ('b','B'):3,('c','A'):1, ('c','B'):-2})\n",
    "\n",
    "print(A)\n",
    "Q= factor(A)\n",
    "\n",
    "print(Q)"
   ]
  },
  {
   "cell_type": "code",
   "execution_count": null,
   "metadata": {
    "collapsed": false
   },
   "outputs": [],
   "source": [
    "# Problem 9.11.10    \n",
    "    \n",
    "# U2 = [list2vec(v) for v in [[0.73, 0.55, 0.18, 0.37], [0.19, 0.40, -0.57, -0.69], [0.53, -0.65, -0.51, 0.18]]]\n",
    "# #Lstar = orthogonalize(U2)\n",
    "\n",
    "# U3 = 1\n",
    "\n",
    "L = [list2vec(v) for v in [[4,3,1,2],[8,9,-5,-5],[10,1,-1,5]]]\n",
    "\n",
    "print(coldict2mat(L))\n",
    "\n",
    "#Qlist_unormalized = aug_orthogonalize(L)[0]\n",
    "#Rlist1 = aug_orthogonalize(L)[1]\n",
    "# print(coldict2mat(Qlist[1]))\n",
    "\n",
    "# print(mat2rowdict(coldict2mat(Qlist[1])))\n",
    "\n",
    "# print(Qlist[0]*Qlist[0])\n",
    "\n",
    "# print(2*mat2rowdict(coldict2mat(RList))[0])\n",
    "\n",
    "Qlist,Rlist = aug_orthonormalize(L)\n",
    "print(coldict2mat(Qlist))\n",
    "\n",
    "print(Qlist)\n",
    "\n",
    "print(mat2coldict(rowdict2mat(Rlist)))\n",
    "dict2list(mat2coldict(rowdict2mat(Rlist)),range(len(Qlist)))\n"
   ]
  }
 ],
 "metadata": {
  "kernelspec": {
   "display_name": "Python 3",
   "language": "python",
   "name": "python3"
  },
  "language_info": {
   "codemirror_mode": {
    "name": "ipython",
    "version": 3
   },
   "file_extension": ".py",
   "mimetype": "text/x-python",
   "name": "python",
   "nbconvert_exporter": "python",
   "pygments_lexer": "ipython3",
   "version": "3.5.1"
  }
 },
 "nbformat": 4,
 "nbformat_minor": 0
}
