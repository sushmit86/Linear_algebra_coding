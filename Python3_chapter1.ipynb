{
 "cells": [
  {
   "cell_type": "code",
   "execution_count": 71,
   "metadata": {},
   "outputs": [],
   "source": [
    "import sys\n",
    "sys.path.append('/Users/sushmitroy/Linear_algebra_coding')"
   ]
  },
  {
   "cell_type": "code",
   "execution_count": 1,
   "metadata": {},
   "outputs": [],
   "source": [
    "# Task 1.4.1\n",
    "S = [2+2j,3+2j,1.75+1j,2+1j,2.25 + 1j,2.5 + 1j,2.75 + 1j, 3 + 1j ,3.25 + 1j]\n",
    "from plotting import plot\n",
    "plot(S,4)"
   ]
  },
  {
   "cell_type": "code",
   "execution_count": 73,
   "metadata": {},
   "outputs": [],
   "source": [
    "plot({1+2j+z for z in S},4)"
   ]
  },
  {
   "cell_type": "code",
   "execution_count": 74,
   "metadata": {},
   "outputs": [],
   "source": [
    "plot ({0.5*z for z in S},4)"
   ]
  },
  {
   "cell_type": "code",
   "execution_count": 76,
   "metadata": {},
   "outputs": [],
   "source": [
    "# Task 1.4.9\n",
    "plot ({2-2j+0.5j*z for z in S},4)"
   ]
  },
  {
   "cell_type": "code",
   "execution_count": 2,
   "metadata": {},
   "outputs": [],
   "source": [
    "from image import file2image\n",
    "data=file2image('/Users/sushmitroy/Linear_algebra_coding/img01.png')\n",
    "#print (type(data[0][0]))\n",
    "#0.2126*data[0][0][0] + 0.7152* data[0][0][1] + 0.0722 * data[0][0][2]\n",
    "\n",
    "\n",
    "pts =[y + x*1j for x in list(range(len(data))) \n",
    " for y in list(range(len(data[0]))) \n",
    " if (0.2126*data[x][y][0] + 0.7152* data[x][y][1] + 0.0722 * data[x][y][2])< 120]\n",
    "plot({z for z in pts},200)"
   ]
  },
  {
   "cell_type": "code",
   "execution_count": 3,
   "metadata": {},
   "outputs": [],
   "source": [
    "# To centre Task\n",
    "plot({-sum(pts)/len(pts)+ z for z in pts },200)"
   ]
  },
  {
   "cell_type": "code",
   "execution_count": 80,
   "metadata": {},
   "outputs": [],
   "source": [
    "#Rough\n",
    "#S = [2+2j,3+2j,1.75+1j,2+1j,2.25 + 1j,2.5 + 1j,2.75 + 1j, 3 + 1j ,3.25 + 1j]\n",
    "\n",
    "#S_C=sum(S)/len(S)\n",
    "\n",
    "#plot({-S_C + z for z in S},4)\n",
    "plot({0.5*z for z in pts},200)"
   ]
  },
  {
   "cell_type": "code",
   "execution_count": 4,
   "metadata": {},
   "outputs": [],
   "source": [
    "# Task 1.4.17 --  will correspond to a circle \n",
    "from math import e,pi\n",
    "n = 12\n",
    "w = e **(2*pi*1j/n)\n",
    "\n",
    "plot([w**z for z in range(n)],2)"
   ]
  },
  {
   "cell_type": "code",
   "execution_count": 106,
   "metadata": {},
   "outputs": [],
   "source": [
    "plot({e**(pi*1j/4)*z for z in S},4)\n",
    "# Task 1.4.19\n",
    "plot({e**(pi*1j/4)*z for z in pts},200)"
   ]
  },
  {
   "cell_type": "code",
   "execution_count": 110,
   "metadata": {},
   "outputs": [],
   "source": [
    "# Task 1.4.20\n",
    "transform_rotate=e**(pi*1j/4)\n",
    "transform_centre=-sum(pts)/len(pts)\n",
    "plot({0.5*transform_rotate*(transform_centre+z) for z in pts},200)"
   ]
  },
  {
   "cell_type": "code",
   "execution_count": 118,
   "metadata": {},
   "outputs": [
    {
     "data": {
      "text/plain": [
       "one"
      ]
     },
     "execution_count": 118,
     "output_type": "execute_result",
     "metadata": {}
    }
   ],
   "source": [
    "from GF2 import zero\n",
    "zero - one"
   ]
  },
  {
   "cell_type": "code",
   "execution_count": 157,
   "metadata": {},
   "outputs": [
    {
     "data": {
      "text/plain": [
       "'10101'"
      ]
     },
     "execution_count": 157,
     "output_type": "execute_result",
     "metadata": {}
    }
   ],
   "source": [
    "ciphertext = ['10101','00100','10101',\n",
    "              '01011','11001','00011','01011','10101','00100',\n",
    "             '11001','11010']\n",
    "\n",
    "\n",
    "def padding(str_bin) : \n",
    "    if len(str_bin) < 5:\n",
    "        str_bin=(5- len(str_bin)) * '0' + str_bin\n",
    "    return str_bin\n",
    "\n",
    "key_list =[padding(bin(x)[2:]) for x in range(32)]\n",
    "\n",
    "import string\n",
    "\n",
    "\n",
    "dict_map = {x:y for (x,y) in enumerate(string.ascii_uppercase)}\n",
    "dict_map[26] =' '\n",
    "\n",
    "dict_map\n",
    "def reverse(cipher,key): \n",
    "    text =''\n",
    "    for (x,y) in zip(cipher ,key):\n",
    "        if (x=='1' and y=='1'):\n",
    "            text = text + '0'\n",
    "        elif (x=='1' and y=='0'):\n",
    "            text = text + '1'\n",
    "        elif(x == '0' and y == '1'):\n",
    "            text = text + '1'\n",
    "        else :\n",
    "            text = text + '0'\n",
    "    return text\n",
    "    \n",
    "reverse(ciphertext[0] ,key_list[0])"
   ]
  },
  {
   "cell_type": "code",
   "execution_count": 205,
   "metadata": {},
   "outputs": [
    {
     "name": "stdout",
     "output_type": "stream",
     "text": [
      "EVE IS EVIL\n",
      "10001\n"
     ]
    }
   ],
   "source": [
    "plain_text = [dict_map[int(reverse(cipher,key_list[17]),2)] for cipher in ciphertext]\n",
    "plain_text\n",
    "\n",
    "# Hence the text is EVE is evil\n",
    "\n",
    "print (''.join(plain_text))\n",
    "print (key_list[17])\n",
    "#list(zip(ciphertext[0] ,key_list[0]))\n",
    "#int(ciphertext[10], 2)\n",
    "#'1' + '0'"
   ]
  },
  {
   "cell_type": "code",
   "execution_count": 215,
   "metadata": {},
   "outputs": [
    {
     "data": {
      "text/plain": [
       "{0: 'apple', 1: 'bat'}"
      ]
     },
     "execution_count": 215,
     "output_type": "execute_result",
     "metadata": {}
    }
   ],
   "source": [
    "# Problems :\n",
    "def my_filter(L,num): return [x  for x in L if x%num !=0]\n",
    "L = [1,2,4,5,7]\n",
    "num = 2\n",
    "my_filter(L,2)\n",
    "#  Problem composite function :\n",
    "def my_function_composition (f,g) : return { x:g[y] for (x,y) in f.items()}\n",
    "\n",
    "f = {0 :'a',1:'b'}\n",
    "g = {'a': 'apple','b':'bat'}\n",
    "my_function_composition(f,g)"
   ]
  },
  {
   "cell_type": "code",
   "execution_count": 224,
   "metadata": {},
   "outputs": [],
   "source": [
    "def mysum(L):\n",
    "    current = 0\n",
    "    for x in L:\n",
    "        current = current + x\n",
    "    return current\n",
    "def myProduct(L):\n",
    "    current = 1\n",
    "    for x in L:\n",
    "        current = current * x\n",
    "    return current\n",
    "\n",
    "def myMin(L):\n",
    "    current  = L[0]\n",
    "    for x in L:\n",
    "        if x < current:\n",
    "            current = x\n",
    "    return current\n",
    "def myconcat(L):\n",
    "    current = ''\n",
    "    for x in L:\n",
    "        current = current + x\n",
    "    return current\n",
    "def myUnion(L):\n",
    "    current = set()\n",
    "    for x in L:\n",
    "        current = current | x\n",
    "    return current"
   ]
  },
  {
   "cell_type": "code",
   "execution_count": 227,
   "metadata": {},
   "outputs": [
    {
     "data": {
      "text/plain": [
       "{1, 2, 3, 4, 5, 'bat', '1pple'}"
      ]
     },
     "execution_count": 227,
     "output_type": "execute_result",
     "metadata": {}
    }
   ],
   "source": [
    "L = [1,2,3,4]\n",
    "mysum(L)\n",
    "myProduct(L)\n",
    "L= [-9,2,345,5,-99999,-0.01]\n",
    "myMin(L)\n",
    "L = ['he','is',' ','good']\n",
    "myconcat(L)\n",
    "\n",
    "L = [{1,2},{3,4,5,2},{'1pple','bat'}]\n",
    "myUnion(L)"
   ]
  }
 ],
 "metadata": {
  "kernelspec": {
   "display_name": "Python 3",
   "language": "python",
   "name": "python3"
  },
  "language_info": {
   "codemirror_mode": {
    "name": "ipython",
    "version": 3.0
   },
   "file_extension": ".py",
   "mimetype": "text/x-python",
   "name": "python",
   "nbconvert_exporter": "python",
   "pygments_lexer": "ipython3",
   "version": "3.5.1"
  }
 },
 "nbformat": 4,
 "nbformat_minor": 0
}