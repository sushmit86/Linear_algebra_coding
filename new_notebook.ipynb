{
 "cells": [
  {
   "cell_type": "code",
   "execution_count": 5,
   "metadata": {
    "collapsed": false
   },
   "outputs": [
    {
     "data": {
      "text/plain": [
       "[Vec({0, 1, 2, 3, 4},{0: 1, 1: 2, 2: 3, 3: 4, 4: 5}),\n",
       " Vec({0, 1, 2, 3, 4},{0: 0, 1: 2, 2: 3, 3: 4, 4: 5}),\n",
       " Vec({0, 1, 2, 3, 4},{0: 0, 1: 0, 2: 0, 3: 3, 4: 2}),\n",
       " Vec({0, 1, 2, 3, 4},{0: 0.0, 1: 0.0, 2: 0.0, 3: 0.0, 4: 3.0})]"
      ]
     },
     "execution_count": 5,
     "metadata": {},
     "output_type": "execute_result"
    }
   ],
   "source": [
    "#col_label_list = sorted(rowlist[0].D, key=hash)\n",
    "from vec import  Vec\n",
    "from matutil import *\n",
    "#import ipdb\n",
    "new_rowlist = []\n",
    "\n",
    "label_list = [0,1,2,3,4] \n",
    "D = set(label_list) \n",
    "rowlist=[Vec(D,{0:0,1:2,2:3,3:4,4:5}), \n",
    "         Vec(D,{0:0,1:0,2:0,3:3,4:2}), \n",
    "         Vec(D,{0:1,1:2,2:3,3:4,4:5}), \n",
    "         Vec(D,{0:0,1:0,2:0,3:6,4:7}),\n",
    "         Vec(D,{0:0,1:0,2:0,3:9,4:9})]\n",
    "\n",
    "\n",
    "\n",
    "col_label_list = sorted(rowlist[0].D ,key = hash)\n",
    "col_label_list\n",
    "\n",
    "new_rowlist = []\n",
    "rows_left = set(range(len(rowlist)))\n",
    "rows_left\n",
    "#help(sorted)\n",
    "#ipdb.set_trace()\n",
    "\n",
    "for c1 in col_label_list:\n",
    "    rows_with_nonzero = [r for r in rows_left if rowlist[r][c1] != 0]\n",
    "    #%debug \n",
    "    if rows_with_nonzero != []:\n",
    "        pivot = rows_with_nonzero[0]\n",
    "        new_rowlist.append(rowlist[pivot])\n",
    "        rows_left.remove(pivot)\n",
    "        for r in rows_with_nonzero[1:]:\n",
    "            multiplier = rowlist[r][c1]/rowlist[pivot][c1]\n",
    "            rowlist[r] -= multiplier * rowlist[pivot]\n",
    "new_rowlist"
   ]
  }
 ],
 "metadata": {
  "kernelspec": {
   "display_name": "Python 3",
   "language": "python",
   "name": "python3"
  },
  "language_info": {
   "codemirror_mode": {
    "name": "ipython",
    "version": 3
   },
   "file_extension": ".py",
   "mimetype": "text/x-python",
   "name": "python",
   "nbconvert_exporter": "python",
   "pygments_lexer": "ipython3",
   "version": "3.5.1"
  }
 },
 "nbformat": 4,
 "nbformat_minor": 0
}
