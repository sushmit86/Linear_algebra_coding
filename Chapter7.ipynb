{
 "cells": [
  {
   "cell_type": "code",
   "execution_count": 88,
   "metadata": {
    "collapsed": false
   },
   "outputs": [],
   "source": [
    "#col_label_list = sorted(rowlist[0].D, key=hash)\n",
    "from vec import  *\n",
    "from mat import *\n",
    "from matutil import *\n",
    "from echelon import *\n",
    "from vecutil import *\n",
    "from GF2 import one\n",
    "import independence\n",
    "from bitutil import *\n",
    "import random\n",
    "import solver\n",
    "#import ipdb\n",
    "new_rowlist = []\n",
    "\n",
    "label_list = [0,1,2,3,4] \n",
    "D = set(label_list) \n",
    "rowlist=[Vec(D,{0:0,1:2,2:3,3:4,4:5}), \n",
    "         Vec(D,{0:0,1:0,2:0,3:3,4:2}), \n",
    "         Vec(D,{0:1,1:2,2:3,3:4,4:5}), \n",
    "         Vec(D,{0:0,1:0,2:0,3:6,4:7}),\n",
    "         Vec(D,{0:0,1:0,2:0,3:9,4:9})]\n",
    "\n",
    "\n",
    "\n",
    "col_label_list = sorted(rowlist[0].D ,key = hash)\n",
    "col_label_list\n",
    "\n",
    "new_rowlist = []\n",
    "rows_left = set(range(len(rowlist)))\n",
    "rows_left\n",
    "#help(sorted)\n",
    "#ipdb.set_trace()\n",
    "\n",
    "for c1 in col_label_list:\n",
    "    rows_with_nonzero = [r for r in rows_left if rowlist[r][c1] != 0]\n",
    "    #%debug \n",
    "    if rows_with_nonzero != []:\n",
    "        pivot = rows_with_nonzero[0]\n",
    "        new_rowlist.append(rowlist[pivot])\n",
    "        rows_left.remove(pivot)\n",
    "        for r in rows_with_nonzero[1:]:\n",
    "            multiplier = rowlist[r][c1]/rowlist[pivot][c1]\n",
    "            rowlist[r] -= multiplier * rowlist[pivot]\n"
   ]
  },
  {
   "cell_type": "code",
   "execution_count": 7,
   "metadata": {
    "collapsed": true
   },
   "outputs": [],
   "source": [
    "# from cracking_rand import *\n",
    "# import random\n",
    "# prng = random.Random()\n",
    "# n  = 64\n",
    "# data = [prng.getrandbits(32) for k in range(n)]\n",
    "# seed = prng.getstate()[1][:n]\n",
    "\n",
    "# Bd = (set([1,2,3,4]), set(['A','B','C','D']))\n",
    "# Bf = {k:1 for k in {(1,'A'),(1,'B'),(2,'A'),(2,'C'),(3,'B'),(3,'C'),(3,'D'),(4,'A')}}\n",
    "# B=Mat(Bd, Bf)\n",
    "\n",
    "# print(B)\n",
    "# print(transformation(B)*B)"
   ]
  },
  {
   "cell_type": "code",
   "execution_count": 113,
   "metadata": {
    "collapsed": false
   },
   "outputs": [
    {
     "name": "stdout",
     "output_type": "stream",
     "text": [
      "\n",
      "       0 1 2 3\n",
      "     ---------\n",
      " 0  |  0 2 4 2\n",
      " 1  |  2 1 0 0\n",
      " 2  |  0 0 0 0\n",
      " 3  |  0 0 0 0\n",
      "\n"
     ]
    }
   ],
   "source": [
    "Bd = (set([0,1,2,3]), set([0,1,2,3]))\n",
    "Bf = {(0,1):2, (0,2):4,(0,3):2,(0,4):8,(1,0):2,(1,1):1}\n",
    "B=Mat(Bd, Bf)\n",
    "print(B)\n"
   ]
  },
  {
   "cell_type": "code",
   "execution_count": 72,
   "metadata": {
    "collapsed": true
   },
   "outputs": [],
   "source": [
    "Bd = (set([0,1,2,3]), set([0,1,2,3,4]))\n",
    "Bf = {}\n",
    "B=Mat(Bd, Bf)\n",
    "#Mat.input_Matrix(B)"
   ]
  },
  {
   "cell_type": "code",
   "execution_count": 73,
   "metadata": {
    "collapsed": false
   },
   "outputs": [
    {
     "name": "stdout",
     "output_type": "stream",
     "text": [
      "\n",
      "testing a string\n",
      "\n"
     ]
    }
   ],
   "source": [
    "a0 = list2vec([one,one,0,one,0,one])\n",
    "b0 = list2vec([one,one,0,0,0,one])\n",
    "\n",
    "import random\n",
    "def randGF2() :\n",
    "    #random.seed(a=None, version=2)\n",
    "    return random.randint(0,1)*one\n",
    "\n",
    "# Task 7.7.1\n",
    "def choose_secret_vector(s,t):\n",
    "    # generate the random 6 vector u\n",
    "    u_list = [randGF2() for i in range(6)]\n",
    "    u_vec = list2vec(u_list)\n",
    "    while (a0*u_vec) != s or (b0 * u_vec) != t:\n",
    "        random.seed(a=None, version=2)\n",
    "        u_list = [randGF2() for i in range(6)]\n",
    "        u_vec = list2vec(u_list)\n",
    "    return u_vec\n",
    "\n",
    "#print ([randGF2() for i in range(6)])\n",
    "#choose_secret_vector(one,one)\n",
    "\n",
    "#print ( choose_secret_vector(one,0))\n",
    "\n",
    "# Task 7.7.5\n",
    "\n",
    "# def select_vectors():\n",
    "#     a1 = list2vec([randGF2() for i in range(6)])\n",
    "#     b1 = list2vec([randGF2() for i in range(6)])\n",
    "#     a2 = list2vec([randGF2() for i in range(6)])\n",
    "#     b2 = list2vec([randGF2() for i in range(6)])\n",
    "#     a3 = list2vec([randGF2() for i in range(6)])\n",
    "#     b3 = list2vec([randGF2() for i in range(6)])\n",
    "#     a4 = list2vec([randGF2() for i in range(6)])\n",
    "#     b4 = list2vec([randGF2() for i in range(6)])\n",
    "\n",
    "    \n",
    "#     return 0\n",
    "\n",
    "\n",
    "flag_independent = False\n",
    "\n",
    "# check if independent\n",
    "\n",
    "while (flag_independent == False):\n",
    "    iter = 1\n",
    "    a1 = list2vec([randGF2() for i in range(6)])\n",
    "    b1 = list2vec([randGF2() for i in range(6)])\n",
    "    a2 = list2vec([randGF2() for i in range(6)])\n",
    "    b2 = list2vec([randGF2() for i in range(6)])\n",
    "    a3 = list2vec([randGF2() for i in range(6)])\n",
    "    b3 = list2vec([randGF2() for i in range(6)])\n",
    "    a4 = list2vec([randGF2() for i in range(6)])\n",
    "    b4 = list2vec([randGF2() for i in range(6)])\n",
    "    \n",
    "    if independence.is_independent([a1,b1,a2,b2,a3,b3]) & independence.is_independent([a2,b2,a3,b3,a4,b4]) & \\\n",
    "    independence.is_independent([a1,b1,a2,b2,a4,b4]):\n",
    "        flag_independent = True\n",
    " \n",
    "# print(iter)\n",
    "# print(a1)  \n",
    "# print(b1)  \n",
    "# print(a2)  \n",
    "# print(b2)  \n",
    "# print(a3)  \n",
    "# print(b3)  \n",
    "# print(a4)\n",
    "# print(b4) \n",
    "# print(independence.is_independent([a1,b1,a2,b2,a4,b4]))\n",
    "\n",
    "# Task 7.7.6\n",
    "\n",
    "string_to_convert = \"\"\"\n",
    "testing a string\n",
    "\"\"\"\n",
    "\n",
    "list_bits = str2bits(string_to_convert)\n",
    "\n",
    "mat_2_into_n = bits2mat(list_bits,2)\n",
    "\n",
    "#print(mat_2_into_n)\n",
    "col_dict=mat2coldict(mat_2_into_n)\n",
    "u_dict_vec = {}\n",
    "for dict1 in col_dict:\n",
    "    #print(col_dict[dict1][0])\n",
    "    #print(dict1)\n",
    "    u_dict_vec[dict1]=choose_secret_vector(col_dict[dict1][0],col_dict[dict1][1])\n",
    "\n",
    "    \n",
    "# go in reverse order\n",
    "u_mat = coldict2mat(u_dict_vec)\n",
    "\n",
    "dict_ab = {}\n",
    "dict_ab[0] = a0\n",
    "dict_ab[1] = b0\n",
    "dict_ab[2] = a1\n",
    "dict_ab[3] = b1\n",
    "dict_ab[4] = a2\n",
    "dict_ab[5] = b2\n",
    "dict_ab[6] = a3\n",
    "dict_ab[7] = b3\n",
    "dict_ab[8] = a4\n",
    "dict_ab[9] = b4\n",
    "\n",
    "\n",
    "ab_mat = transpose(coldict2mat(dict_ab))\n",
    "\n",
    "share_matrix = ab_mat * u_mat\n",
    "\n",
    "share_matrix_dict = mat2rowdict(share_matrix)\n",
    "\n",
    "## Assigning the keys to TA's\n",
    "TA1_a1=share_matrix_dict[2]\n",
    "TA1_b1=share_matrix_dict[3]\n",
    "\n",
    "TA2_a2=share_matrix_dict[4]\n",
    "TA2_b2=share_matrix_dict[5]\n",
    "\n",
    "TA3_a3=share_matrix_dict[6]\n",
    "TA3_b3=share_matrix_dict[7]\n",
    "\n",
    "TA4_a4=share_matrix_dict[8]\n",
    "TA4_b4=share_matrix_dict[9]\n",
    "dict_a = {}\n",
    "dict_a[0] = a1\n",
    "dict_a[1] = b1\n",
    "dict_a[2] = a2\n",
    "dict_a[3] = b2\n",
    "dict_a[4] = a3\n",
    "dict_a[5] = b3\n",
    "A_matrix = transpose(coldict2mat(dict_a))\n",
    "\n",
    "D = {i for i in range(6) }\n",
    "\n",
    "u ={}\n",
    "\n",
    "for i in range(len(TA1_a1.D)):\n",
    "    u[i] = solver.solve(A_matrix,Vec(D,{0:TA1_a1[i],1:TA1_b1[i],2:TA2_a2[i],3:TA2_b2[i],4:TA3_a3[i],5:TA3_b3[i]}))\n",
    "rev_col_dict = {}\n",
    "\n",
    "for u_key in u:\n",
    "    rev_col_dict[u_key] = list2vec([a0 * u[u_key],b0* u[u_key]])\n",
    "\n",
    "\n",
    "\n",
    "print(bits2str(mat2bits(coldict2mat(rev_col_dict))))"
   ]
  },
  {
   "cell_type": "code",
   "execution_count": null,
   "metadata": {
    "collapsed": true
   },
   "outputs": [],
   "source": [
    "# # go in reverse order\n",
    "# u_mat = coldict2mat(u_dict_vec)\n",
    "\n",
    "# dict_ab = {}\n",
    "# dict_ab[0] = a0\n",
    "# dict_ab[1] = b0\n",
    "# dict_ab[2] = a1\n",
    "# dict_ab[3] = b1\n",
    "# dict_ab[4] = a2\n",
    "# dict_ab[5] = b2\n",
    "# dict_ab[6] = a3\n",
    "# dict_ab[7] = b3\n",
    "# dict_ab[8] = a4\n",
    "# dict_ab[9] = b4\n",
    "\n",
    "\n",
    "# ab_mat = transpose(coldict2mat(dict_ab))\n",
    "\n",
    "# share_matrix = ab_mat * u_mat\n",
    "\n",
    "# share_matrix_dict = mat2rowdict(share_matrix)\n",
    "\n",
    "# ## Assigning the keys to TA's\n",
    "# TA1_a1=share_matrix_dict[2]\n",
    "# TA1_b1=share_matrix_dict[3]\n",
    "\n",
    "# TA2_a2=share_matrix_dict[4]\n",
    "# TA2_b2=share_matrix_dict[5]\n",
    "\n",
    "# TA3_a3=share_matrix_dict[6]\n",
    "# TA3_b3=share_matrix_dict[7]\n",
    "\n",
    "# TA4_a4=share_matrix_dict[8]\n",
    "# TA4_b4=share_matrix_dict[9]\n",
    "# dict_a = {}\n",
    "# dict_a[0] = a1\n",
    "# dict_a[1] = b1\n",
    "# dict_a[2] = a2\n",
    "# dict_a[3] = b2\n",
    "# dict_a[4] = a3\n",
    "# dict_a[5] = b3\n",
    "# A_matrix = transpose(coldict2mat(dict_a))\n",
    "\n",
    "# D = {i for i in range(6) }\n",
    "\n",
    "# sol0 = Vec(D,{0:TA1_a1[0],1:TA1_b1[0],2:TA2_a2[0],3:TA2_b2[0],4:TA3_a3[0],5:TA3_b3[0]})\n",
    "# sol1 = Vec(D,{0:TA1_a1[1],1:TA1_b1[1],2:TA2_a2[1],3:TA2_b2[1],4:TA3_a3[1],5:TA3_b3[1]})\n",
    "# sol2 = Vec(D,{0:TA1_a1[2],1:TA1_b1[2],2:TA2_a2[2],3:TA2_b2[2],4:TA3_a3[2],5:TA3_b3[2]})\n",
    "# sol3 = Vec(D,{0:TA1_a1[3],1:TA1_b1[3],2:TA2_a2[3],3:TA2_b2[3],4:TA3_a3[3],5:TA3_b3[3]})\n",
    "\n",
    "# # solver.solve(A_matrix,b0)\n",
    "\n",
    "# #print(b1)\n",
    "# #print(share_matrix_dict)\n",
    "# u0=solver.solve(A_matrix,sol0)\n",
    "# u1=solver.solve(A_matrix,sol1)\n",
    "# u2=solver.solve(A_matrix,sol2)\n",
    "# u3=solver.solve(A_matrix,sol3)\n",
    "# #print(u_dict_vec)\n",
    "# rev_col_dict = {}\n",
    "\n",
    "# rev_col_dict[0] = list2vec([a0*u0,b0*u0])\n",
    "# rev_col_dict[1] = list2vec([a0*u1,b0*u1])\n",
    "# rev_col_dict[2] = list2vec([a0*u2,b0*u2])\n",
    "# rev_col_dict[3] = list2vec([a0*u3,b0*u3])\n",
    "\n",
    "# print(bits2str(mat2bits(coldict2mat(rev_col_dict))))\n",
    "\n",
    "# print(((coldict2mat(rev_col_dict))))\n",
    "\n",
    "\n",
    "# # testing independence\n",
    "\n",
    "\n",
    "# print(independence.is_independent([a1,b1,a2,b2,a3,b3]))\n",
    "# print(b1)\n",
    "\n",
    "# print(u_mat)\n",
    "# print((TA1_a1.f))"
   ]
  },
  {
   "cell_type": "code",
   "execution_count": 68,
   "metadata": {
    "collapsed": false
   },
   "outputs": [
    {
     "data": {
      "text/plain": [
       "(1279323, 1279319)"
      ]
     },
     "execution_count": 68,
     "metadata": {},
     "output_type": "execute_result"
    }
   ],
   "source": [
    "# Factoring integers\n",
    "# Task 7.8.1\n",
    "from factoring_support import *\n",
    "intsqrt(146771)\n",
    "\n",
    "\n",
    "def root_method(N):\n",
    "    \n",
    "    if (N ==1 or N ==2 or N <= 0 or not(isinstance( N, int )) ):\n",
    "        return 'Not possible'\n",
    "    if ( N < 0):\n",
    "        return 'Not possible'\n",
    "    a = intsqrt(N)\n",
    "    while (a*a <= N):\n",
    "        a = a + 1\n",
    "    while(intsqrt(a*a - N) * intsqrt(a*a - N) != a *a - N and a < N):\n",
    "        a = a + 1\n",
    "        if ( a == N):\n",
    "            return 'Not possible'\n",
    "    return (a, intsqrt(a*a - N))\n",
    "root_method(10234568)\n",
    "    \n",
    "    "
   ]
  },
  {
   "cell_type": "code",
   "execution_count": 100,
   "metadata": {
    "collapsed": false
   },
   "outputs": [
    {
     "name": "stdout",
     "output_type": "stream",
     "text": [
      "6172657 6045011 4283665\n",
      "6045011\n",
      "True\n",
      "True\n",
      "True\n",
      "0\n",
      "367160330145890434494322103\n",
      "[(3, 1), (5, 2)]\n",
      "[(2, 2), (3, 1)]\n",
      "[(2, 1), (7, 1), (11, 1)]\n",
      "3\n",
      "[]\n",
      "0\n",
      "one\n",
      "0\n",
      "\n",
      " 11 2   3 5 7\n",
      "-------------\n",
      "  0 0 one 0 0\n",
      "\n",
      "  11   2 3   5 7\n",
      "----------------\n",
      " one one 0 one 0\n"
     ]
    }
   ],
   "source": [
    "# Task 7.8.2\n",
    "gcd(10,6)\n",
    "r = random.randint(123456,9887654)\n",
    "s = random.randint(123456,9887654)\n",
    "t = random.randint(123456,9887654)\n",
    "\n",
    "print(r,s,t)\n",
    "\n",
    "print(gcd(r*s,s*t))\n",
    "\n",
    "# check \n",
    "print(r*s%gcd(r*s,s*t) == 0 )\n",
    "print(s*t%gcd(r*s,s*t) == 0 )\n",
    "print( gcd(r*s,s*t) >= s)\n",
    "\n",
    "#  Task 7.8.3\n",
    "\n",
    "N = 367160330145890434494322103\n",
    "a = 67469780066325164\n",
    "b = 9429601150488992\n",
    "\n",
    "\n",
    "print((a*a - b*b)%N)\n",
    "\n",
    "print(gcd(a*a - b *b ,N))\n",
    "# task 7.8.4\n",
    "\n",
    "print(dumb_factor(75 , {2,3,5,7}))\n",
    "\n",
    "# Task 7.8.4\n",
    "primeset = {2,3,5,7,11,13}\n",
    "print(dumb_factor(12,primeset))\n",
    "print(dumb_factor(154,primeset))\n",
    "print(len(dumb_factor(2*3*3*3*11*11,primeset)))\n",
    "print(dumb_factor(2 * 17,primeset))\n",
    "print(len(dumb_factor(2 *3 *5 *7 *19,primeset)))\n",
    "# Task 7.8.5\n",
    "def int2GF2(i):\n",
    "    if ( i % 2 == 0):\n",
    "        return 0\n",
    "    else:\n",
    "        return one\n",
    "        \n",
    "    \n",
    "\n",
    "\n",
    "print(int2GF2(3))\n",
    "print(int2GF2(4))\n",
    "\n",
    "# Task 7.8.6\n",
    "\n",
    "def make_Vec(primeset, factors):\n",
    "    \n",
    "    return Vec(primeset,{i[0]:int2GF2(i[1]) for i in factors})\n",
    "\n",
    "print(make_Vec({2,3,5,7,11}, [(3,1)]))\n",
    "print(make_Vec({2,3,5,7,11}, [(2,17), (3, 0), (5,1), (11,3)]))\n",
    "\n",
    "\n"
   ]
  },
  {
   "cell_type": "code",
   "execution_count": 122,
   "metadata": {
    "collapsed": false
   },
   "outputs": [
    {
     "name": "stdout",
     "output_type": "stream",
     "text": [
      "[Vec({0, 1, 2, 3, 4, 5, 6, 7, 8, 9, 10, 11},{0: one}), Vec({0, 1, 2, 3, 4, 5, 6, 7, 8, 9, 10, 11},{1: one}), Vec({0, 1, 2, 3, 4, 5, 6, 7, 8, 9, 10, 11},{4: one}), Vec({0, 1, 2, 3, 4, 5, 6, 7, 8, 9, 10, 11},{0: 0, 1: 0, 2: 0, 3: 0, 4: one, 5: 0, 6: 0, 7: one, 8: 0, 9: 0, 10: 0, 11: 0}), Vec({0, 1, 2, 3, 4, 5, 6, 7, 8, 9, 10, 11},{0: one, 1: 0, 2: one, 3: 0, 4: 0, 5: 0, 6: 0, 7: 0, 8: 0, 9: 0, 10: 0, 11: 0}), Vec({0, 1, 2, 3, 4, 5, 6, 7, 8, 9, 10, 11},{0: 0, 1: one, 2: 0, 3: 0, 4: 0, 5: one, 6: 0, 7: 0, 8: 0, 9: 0, 10: 0, 11: 0}), Vec({0, 1, 2, 3, 4, 5, 6, 7, 8, 9, 10, 11},{0: one, 1: 0, 2: one, 3: one, 4: 0, 5: 0, 6: 0, 7: 0, 8: 0, 9: 0, 10: 0, 11: 0}), Vec({0, 1, 2, 3, 4, 5, 6, 7, 8, 9, 10, 11},{0: one, 1: one, 2: one, 3: 0, 4: one, 5: one, 6: one, 7: 0, 8: 0, 9: 0, 10: 0, 11: 0}), Vec({0, 1, 2, 3, 4, 5, 6, 7, 8, 9, 10, 11},{0: 0, 1: one, 2: 0, 3: 0, 4: 0, 5: one, 6: 0, 7: 0, 8: one, 9: 0, 10: 0, 11: 0}), Vec({0, 1, 2, 3, 4, 5, 6, 7, 8, 9, 10, 11},{0: 0, 1: one, 2: 0, 3: 0, 4: 0, 5: 0, 6: 0, 7: one, 8: 0, 9: one, 10: 0, 11: 0}), Vec({0, 1, 2, 3, 4, 5, 6, 7, 8, 9, 10, 11},{0: 0, 1: 0, 2: one, 3: 0, 4: 0, 5: 0, 6: 0, 7: 0, 8: 0, 9: 0, 10: one, 11: 0}), Vec({0, 1, 2, 3, 4, 5, 6, 7, 8, 9, 10, 11},{0: 0, 1: one, 2: one, 3: 0, 4: 0, 5: one, 6: 0, 7: 0, 8: 0, 9: 0, 10: 0, 11: one})]\n"
     ]
    }
   ],
   "source": [
    "# 7.8.7 Factoring an integer\n",
    "\n",
    "def find_candidates( N, primeset):\n",
    "    roots = []\n",
    "    rowlist = []\n",
    "    x = intsqrt(N) + 2\n",
    "    index = 0 \n",
    "    while ( index < len(primeset) + 1):\n",
    "        if len(dumb_factor(x*x -N , primeset)) > 0:\n",
    "            roots.append(x)\n",
    "            rowlist.append(make_Vec(primeset ,dumb_factor(x*x -N , primeset) ))\n",
    "            index = index + 1\n",
    "        x = x + 1\n",
    "    return roots,rowlist\n",
    "\n",
    "#print(rowdict2mat(transformation_rows(find_candidates(2419,primes(32))[1])) *\n",
    "#rowdict2mat(find_candidates(2419,primes(32))[1]))\n",
    "\n",
    "print(transformation_rows(find_candidates(2419,primes(32))[1]))\n",
    "\n"
   ]
  },
  {
   "cell_type": "code",
   "execution_count": 178,
   "metadata": {
    "collapsed": false
   },
   "outputs": [
    {
     "name": "stdout",
     "output_type": "stream",
     "text": [
      "41\n",
      "2419\n"
     ]
    }
   ],
   "source": [
    "# Task 7.8.8\n",
    "a = 53 * 77\n",
    "b = 2 * (3**2 )* 5 *13\n",
    "N = 2419\n",
    "print(gcd( a -b ,N))\n",
    "\n",
    "# Task 7.8.9\n",
    "a = 52*67*71\n",
    "b = 2 *(3 **2)*5*19*23\n",
    "print(gcd( a- b , N))\n"
   ]
  },
  {
   "cell_type": "code",
   "execution_count": 179,
   "metadata": {
    "collapsed": false
   },
   "outputs": [
    {
     "name": "stdout",
     "output_type": "stream",
     "text": [
      "\n",
      " 0   1 10  11   2 3 4   5 6 7 8 9\n",
      "---------------------------------\n",
      " 0 one  0 one one 0 0 one 0 0 0 0\n",
      "[51, 52, 53, 58, 61, 62, 63, 67, 68, 71, 77, 79]\n",
      "True\n",
      "True\n",
      "True\n",
      "True\n"
     ]
    },
    {
     "data": {
      "text/plain": [
       "2911"
      ]
     },
     "execution_count": 179,
     "metadata": {},
     "output_type": "execute_result"
    }
   ],
   "source": [
    "M = transformation_rows(find_candidates(2419,primes(32))[1])\n",
    "roots = find_candidates(2419,primes(32))[0]\n",
    "# Task 7.8.10:\n",
    "def find_a_and_b( v, roots , N):\n",
    "    alist = [roots[key]  for key in v.f if v[key] == one ]\n",
    "    a = prod(alist)\n",
    "    c = prod([x*x - N for x in alist])\n",
    "    b = intsqrt(c)\n",
    "    print(b*b == c)\n",
    "    \n",
    "    return a,b\n",
    "print(M[11])\n",
    "print(roots)   \n",
    "\n",
    "# alist = [1,2,9,4]\n",
    "# prod(alist)\n",
    "gcd(find_a_and_b(M[10],roots,N)[0] - find_a_and_b(M[10],roots,N)[1] , N)\n",
    "find_a_and_b(M[10],roots,N)[0] - find_a_and_b(M[10],roots,N)[1]"
   ]
  },
  {
   "cell_type": "code",
   "execution_count": 182,
   "metadata": {
    "collapsed": false
   },
   "outputs": [],
   "source": [
    "# Task 7.8.11 and Task 7.8.12\n",
    "#N = 2461799993978700679\n",
    "N = 20672783502493917028427\n",
    "primelist = primes(10000)\n",
    "\n",
    "roots = find_candidates(N,primelist)[0]\n",
    "rowlist = find_candidates(N,primelist)[1]\n",
    "\n",
    "M = transformation_rows(rowlist,sorted(primelist , reverse = True))\n"
   ]
  },
  {
   "cell_type": "code",
   "execution_count": 185,
   "metadata": {
    "collapsed": false
   },
   "outputs": [
    {
     "name": "stdout",
     "output_type": "stream",
     "text": [
      "True\n",
      "True\n",
      "True\n",
      "True\n",
      "True\n",
      "True\n",
      "20672783502493917028427\n",
      "1229\n"
     ]
    }
   ],
   "source": [
    "index = len(M) -1\n",
    "while (gcd(find_a_and_b(M[index],roots,N)[0] - find_a_and_b(M[index],roots,N)[1] , N))== 1 or (gcd(find_a_and_b(M[index],roots,N)[0] - find_a_and_b(M[index],roots,N)[1] , N)) != N:\n",
    "        index = index -1\n",
    "print(gcd(find_a_and_b(M[index],roots,N)[0] - find_a_and_b(M[index],roots,N)[1] , N))\n",
    "print(index)"
   ]
  },
  {
   "cell_type": "code",
   "execution_count": 181,
   "metadata": {
    "collapsed": false
   },
   "outputs": [
    {
     "ename": "IndexError",
     "evalue": "list index out of range",
     "output_type": "error",
     "traceback": [
      "\u001b[0;31m---------------------------------------------------------------------------\u001b[0m",
      "\u001b[0;31mIndexError\u001b[0m                                Traceback (most recent call last)",
      "\u001b[0;32m<ipython-input-181-a80f75932abd>\u001b[0m in \u001b[0;36m<module>\u001b[0;34m()\u001b[0m\n\u001b[0;32m----> 1\u001b[0;31m \u001b[0mfind_a_and_b\u001b[0m\u001b[0;34m(\u001b[0m\u001b[0mM\u001b[0m\u001b[0;34m[\u001b[0m\u001b[0mindex\u001b[0m\u001b[0;34m]\u001b[0m\u001b[0;34m,\u001b[0m\u001b[0mroots\u001b[0m\u001b[0;34m,\u001b[0m\u001b[0mN\u001b[0m\u001b[0;34m)\u001b[0m\u001b[0;34m[\u001b[0m\u001b[0;36m0\u001b[0m\u001b[0;34m]\u001b[0m \u001b[0;34m-\u001b[0m \u001b[0mfind_a_and_b\u001b[0m\u001b[0;34m(\u001b[0m\u001b[0mM\u001b[0m\u001b[0;34m[\u001b[0m\u001b[0mindex\u001b[0m\u001b[0;34m]\u001b[0m\u001b[0;34m,\u001b[0m\u001b[0mroots\u001b[0m\u001b[0;34m,\u001b[0m\u001b[0mN\u001b[0m\u001b[0;34m)\u001b[0m\u001b[0;34m[\u001b[0m\u001b[0;36m1\u001b[0m\u001b[0;34m]\u001b[0m\u001b[0;34m\u001b[0m\u001b[0m\n\u001b[0m\u001b[1;32m      2\u001b[0m \u001b[0;31m# # Task 7.8.13\u001b[0m\u001b[0;34m\u001b[0m\u001b[0;34m\u001b[0m\u001b[0m\n\u001b[1;32m      3\u001b[0m \u001b[0;31m# #N = 2461799993978700679\u001b[0m\u001b[0;34m\u001b[0m\u001b[0;34m\u001b[0m\u001b[0m\n\u001b[1;32m      4\u001b[0m \u001b[0mN\u001b[0m \u001b[0;34m=\u001b[0m \u001b[0;36m20672783502493917028427\u001b[0m\u001b[0;34m\u001b[0m\u001b[0m\n\u001b[1;32m      5\u001b[0m \u001b[0;31m# primelist = primes(10000)\u001b[0m\u001b[0;34m\u001b[0m\u001b[0;34m\u001b[0m\u001b[0m\n",
      "\u001b[0;31mIndexError\u001b[0m: list index out of range"
     ]
    }
   ],
   "source": [
    "find_a_and_b(M[index],roots,N)[0] - find_a_and_b(M[index],roots,N)[1] \n",
    "# # Task 7.8.13\n",
    "# #N = 2461799993978700679\n",
    "N = 20672783502493917028427\n",
    "# primelist = primes(10000)\n",
    "\n",
    "# roots = find_candidates(N,primelist)[0]\n",
    "# rowlist = find_candidates(N,primelist)[1]\n",
    "\n",
    "# M_rows = transformation_rows(rowlist, sorted(primelist , reverse = True))"
   ]
  }
 ],
 "metadata": {
  "kernelspec": {
   "display_name": "Python 3",
   "language": "python",
   "name": "python3"
  },
  "language_info": {
   "codemirror_mode": {
    "name": "ipython",
    "version": 3
   },
   "file_extension": ".py",
   "mimetype": "text/x-python",
   "name": "python",
   "nbconvert_exporter": "python",
   "pygments_lexer": "ipython3",
   "version": "3.5.1"
  }
 },
 "nbformat": 4,
 "nbformat_minor": 0
}
