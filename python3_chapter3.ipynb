{
 "cells": [
  {
   "cell_type": "code",
   "execution_count": null,
   "metadata": {
    "collapsed": false
   },
   "outputs": [],
   "source": [
    "from vec import Vec\n",
    "D = {'metal','concrete','plastic','water','electricity'}\n",
    "v_gnome = Vec(D,{'concrete':1.3,'plastic':0.2,'water':0.8,'electricity':.4})\n",
    "print(1*v_gnome)\n",
    "\n",
    "\n",
    "D = {'d1','d2','d3','d4'}\n",
    "\n",
    "list1 = Vec(D,{'d1':3})\n",
    "list2 = Vec(D,{'d2':4})\n",
    "\n",
    "veclist = []\n",
    "veclist.append(list1)\n",
    "veclist.append(list2)\n",
    "sum(veclist)"
   ]
  },
  {
   "cell_type": "code",
   "execution_count": null,
   "metadata": {
    "collapsed": true
   },
   "outputs": [],
   "source": [
    "def lin_comb(vlist,clist):\n",
    "    return sum([coeff*v for (coeff,v) in zip(clist , vlist)])\n",
    "def standard(D , one): return [Vec (D , {k:one }) for k in D]"
   ]
  },
  {
   "cell_type": "code",
   "execution_count": null,
   "metadata": {
    "collapsed": false
   },
   "outputs": [],
   "source": [
    "# Problem 3.8.1\n",
    "from vec import Vec\n",
    "def vec_select(veclist , k): return [ vecitem for vecitem in veclist if vecitem[k] ==0 ]\n",
    "D = {'d1','d2','d3','d4'}   \n",
    "list1 = Vec(D,{'d1':3})\n",
    "list2 = Vec(D,{'d2':4})\n",
    "list3 = Vec(D ,{})\n",
    "\n",
    "veclist = []\n",
    "veclist.append(list1)\n",
    "veclist.append(list2)\n",
    "\n",
    "\n",
    "print(vec_select(veclist, 'd2') )\n",
    "\n",
    "list1['d2']\n",
    "\n",
    "print(sum([list1,list2,list3]))"
   ]
  },
  {
   "cell_type": "code",
   "execution_count": null,
   "metadata": {
    "collapsed": false
   },
   "outputs": [],
   "source": [
    "veclist = []\n",
    "veclist.append(list1)\n",
    "veclist.append(list2)\n",
    "def vec_sum(veclist, setd): return(sum(veclist,Vec(D ,{})))\n",
    "setd = {'d1','d2','d3','d4'}   \n",
    "print(vec_sum(veclist,setd))\n",
    "\n"
   ]
  },
  {
   "cell_type": "code",
   "execution_count": null,
   "metadata": {
    "collapsed": false
   },
   "outputs": [],
   "source": [
    "# Problem 3.8.1\n",
    "def vec_select_sum(veclist , k):\n",
    "    vec_temp_list = [ vecitem for vecitem in veclist if vecitem[k] ==0 ]\n",
    "    return(sum(vec_temp_list,Vec(D ,{}))) \n",
    "    \n",
    "    \n",
    "    \n",
    "D = {'d1','d2','d3','d4'}   \n",
    "list1 = Vec(D,{'d1':3,'d4':10})\n",
    "list2 = Vec(D,{'d2':4})\n",
    "list3 = Vec(D ,{'d1':7})\n",
    "\n",
    "veclist = []\n",
    "veclist.append(list1)\n",
    "veclist.append(list2)\n",
    "veclist.append(list3)\n",
    "\n",
    "print(vec_select_sum(veclist,'d2'))"
   ]
  },
  {
   "cell_type": "code",
   "execution_count": null,
   "metadata": {
    "collapsed": false
   },
   "outputs": [],
   "source": [
    "# Mapping positive numbers to vectors\n",
    "from collections import OrderedDict\n",
    "dict1 = {1:Vec({'d1','d2'},{'d1':2,'d2':3}) , 0.5:Vec({'a','b','c'},{'a':2,'b':4,'c':6})}\n",
    "def scale_vecs(vecdict):\n",
    "    veclist= []\n",
    "    for veckey,vecvalue in vecdict.items():\n",
    "        veclist.append(veckey* vecvalue)\n",
    "        \n",
    "    return veclist\n",
    "print(scale_vecs(dict1))"
   ]
  },
  {
   "cell_type": "code",
   "execution_count": null,
   "metadata": {
    "collapsed": false
   },
   "outputs": [],
   "source": [
    "# Rough Work\n",
    "\n",
    "sum_list_test = [1,23,4,5,6,7]\n",
    "#sum(sum_list_test,[2])\n",
    "from datetime import timedelta\n",
    "timedeltas = [timedelta(1), timedelta(2)]\n",
    "timedeltas\n",
    "timedelta()\n",
    "sum(timedeltas, timedelta())\n",
    "dict1 = {1:'aa',2:'bb', 1:'cc'}\n",
    "dict1[1]"
   ]
  },
  {
   "cell_type": "code",
   "execution_count": null,
   "metadata": {
    "collapsed": false
   },
   "outputs": [],
   "source": [
    "from GF2 import one\n",
    "from GF2 import zero\n",
    "D = {0,1,2,3,4,5}\n",
    "vec_list =[]\n",
    "vec_list.append(Vec(D,{3:one}))\n",
    "vec_list.append(Vec(D,{4:one,5:one}))\n",
    "def GF2_span(D , vec_list):\n",
    "    return 0\n",
    "print(Vec(D,{3:1}))\n",
    "\n",
    "GF2_elements = [one,zero]\n",
    "D1 = {0,1,3}\n",
    "\n",
    "print('a'+'b')\n",
    "\n",
    "def rec_test(k):\n",
    "    if k == 0:\n",
    "        return ['a','b']\n",
    "    else:\n",
    "        print([(0,x) for x in rec_test(k-1)])\n",
    "        print([(1,x) for x in rec_test(k-1)])\n"
   ]
  },
  {
   "cell_type": "code",
   "execution_count": null,
   "metadata": {
    "collapsed": false
   },
   "outputs": [],
   "source": [
    "# Problem 3.8.1\n",
    "from vec import Vec\n",
    "list_n = [None]*3\n",
    "list_ret=[]\n",
    "def rec_test(k):\n",
    "\n",
    "    if k==0:\n",
    "        #list_ret.append(list_n)\n",
    "        print(list_n)\n",
    "    else:\n",
    "        list_n[k-1] = one\n",
    "        rec_test(k-1)\n",
    "        list_n[k-1] = zero\n",
    "        rec_test(k-1)\n",
    "\n",
    "\n",
    "rec_test(3)\n",
    "\n",
    "#list1 = Vec(D,{'d1':3,'d4':10})\n"
   ]
  },
  {
   "cell_type": "code",
   "execution_count": null,
   "metadata": {
    "collapsed": false
   },
   "outputs": [],
   "source": [
    "# Problem 3.8.3\n",
    "from GF2 import one\n",
    "from GF2 import zero\n",
    "\n",
    "def rec_span(k,vec_list):\n",
    "    if k ==0:\n",
    "        #print(list(zip(list_output,vec_list)))\n",
    "        print(sum([list_item*vec_item for list_item in list_output for vec_item in vec_list]))\n",
    "        #list_global.append(sum([list_item*vec_item for list_item in list_output for vec_item in vec_list]))\n",
    "    else:\n",
    "        list_output[k-1] = one\n",
    "        rec_span(k-1,vec_list)\n",
    "        list_output[k-1] = zero\n",
    "        rec_span(k-1,vec_list)\n",
    "        \n",
    "def GF2_span( setd, vec_list):\n",
    "    \n",
    "    rec_span(len(vec_list),vec_list)\n",
    "    \n",
    "\n",
    "D = {0,1,2}\n",
    "vec_list =[]\n",
    "vec_list.append(Vec(D,{2:one}))\n",
    "vec_list.append(Vec(D,{0:one,1:one}))\n",
    "vec_list.append(Vec(D,{0:0,1:one}))\n",
    "list_global =[]\n",
    "list_output = [None]*len(vec_list)\n",
    "\n",
    "GF2_span(D,vec_list)\n",
    "#zero*vec_list[1] + one*vec_list[0] + one*vec_list[2]\n",
    "\n"
   ]
  }
 ],
 "metadata": {
  "kernelspec": {
   "display_name": "Python 3",
   "language": "python",
   "name": "python3"
  },
  "language_info": {
   "codemirror_mode": {
    "name": "ipython",
    "version": 3
   },
   "file_extension": ".py",
   "mimetype": "text/x-python",
   "name": "python",
   "nbconvert_exporter": "python",
   "pygments_lexer": "ipython3",
   "version": "3.5.1"
  }
 },
 "nbformat": 4,
 "nbformat_minor": 0
}
